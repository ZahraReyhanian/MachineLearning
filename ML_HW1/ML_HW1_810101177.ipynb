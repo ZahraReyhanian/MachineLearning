{
 "cells": [
  {
   "cell_type": "markdown",
   "id": "b50128ce",
   "metadata": {},
   "source": [
    "# Question 5"
   ]
  },
  {
   "cell_type": "markdown",
   "id": "17d12052",
   "metadata": {},
   "source": [
    "### part a:\n",
    "implementation of naive bayes classifier without library:"
   ]
  },
  {
   "cell_type": "code",
   "execution_count": 2,
   "id": "8f936a59",
   "metadata": {},
   "outputs": [],
   "source": [
    "import numpy as np\n",
    "import pandas as pd\n",
    "import math\n",
    "\n",
    "class NBGuassianClf:\n",
    "    def separate_by_classes(self, X, y):\n",
    "        #first get type of classes\n",
    "        self.classes = np.unique(y)\n",
    "        subdatasets = {}\n",
    "        \n",
    "        #here get classes and count of samples in each class\n",
    "        cls, counts = np.unique(y, return_counts=True)\n",
    "        self.class_freq = dict(zip(cls, counts))\n",
    "        \n",
    "        #get number of features\n",
    "        self.features = X.shape[1]\n",
    "        \n",
    "        #get number of data in the sample\n",
    "        sum_freq = X.shape[0]\n",
    "        \n",
    "        #here seperate each data by its class\n",
    "        for cls in self.classes:\n",
    "            indexes = np.argwhere(y==cls)\n",
    "            subdatasets[cls] = X[indexes, :]\n",
    "            self.class_freq[cls] = self.class_freq[cls]/sum_freq\n",
    "            \n",
    "        return subdatasets\n",
    "    \n",
    "    def fit(self, X, y):\n",
    "        separated_X = self.separate_by_classes(X, y)\n",
    "        self.mean = {}\n",
    "        self.std = {}\n",
    "        \n",
    "        #here we calculate mean and std of each class \n",
    "        #because we need it to calculate probability of test data when we want to predict its class\n",
    "        for class_type in self.classes:\n",
    "            self.mean[class_type] = np.mean(separated_X[class_type], axis=0)[0]\n",
    "            self.std[class_type] = np.std(separated_X[class_type], axis=0)[0]\n",
    "            \n",
    "    #it is based on the formula of guassian pdf\n",
    "    def calculate_probability(self, x, mean, stdev):\n",
    "        exponent = math.exp(-((x - mean) ** 2 / (2 * stdev ** 2)))\n",
    "        return (1 / (math.sqrt(2 * math.pi) * stdev)) * exponent\n",
    "    \n",
    "    def predict_proba(self, X):\n",
    "        self.class_prob = {cls: math.log(self.class_freq[cls], math.e) for cls in self.classes}\n",
    "        #calculate probibability of each class for the X given\n",
    "        for cls in self.classes:\n",
    "            for i in range(self.features):\n",
    "                self.class_prob[cls]+=math.log(self.calculate_probability(X[i], self.mean[cls][i], self.std[cls][i]), math.e)\n",
    "        self.class_prob = {cls: math.e ** self.class_prob[cls] for cls in self.class_prob}\n",
    "        return self.class_prob\n",
    "    \n",
    "    \n",
    "    def predict(self, X):\n",
    "        pred = []\n",
    "        for x in X:\n",
    "            pred_class = None\n",
    "            max_prob = 0\n",
    "            #for each class calculate probibability and compare which one is bigger and assign the class to it\n",
    "            for cls, prob in self.predict_proba(x).items():\n",
    "                if prob>max_prob:\n",
    "                    max_prob = prob\n",
    "                    pred_class = cls\n",
    "            pred.append(pred_class)\n",
    "        return pred"
   ]
  },
  {
   "cell_type": "markdown",
   "id": "3ef0d766",
   "metadata": {},
   "source": [
    "### part b:"
   ]
  },
  {
   "cell_type": "code",
   "execution_count": 3,
   "id": "e1bbe190",
   "metadata": {},
   "outputs": [],
   "source": [
    "from sklearn.model_selection import train_test_split\n",
    "from sklearn.metrics import confusion_matrix\n",
    "from sklearn.metrics import accuracy_score\n",
    "from sklearn.metrics import precision_score\n",
    "from sklearn.metrics import recall_score\n",
    "import seaborn as sns; sns.set()"
   ]
  },
  {
   "cell_type": "code",
   "execution_count": 4,
   "id": "2b1b4d8e",
   "metadata": {},
   "outputs": [
    {
     "data": {
      "text/html": [
       "<div>\n",
       "<style scoped>\n",
       "    .dataframe tbody tr th:only-of-type {\n",
       "        vertical-align: middle;\n",
       "    }\n",
       "\n",
       "    .dataframe tbody tr th {\n",
       "        vertical-align: top;\n",
       "    }\n",
       "\n",
       "    .dataframe thead th {\n",
       "        text-align: right;\n",
       "    }\n",
       "</style>\n",
       "<table border=\"1\" class=\"dataframe\">\n",
       "  <thead>\n",
       "    <tr style=\"text-align: right;\">\n",
       "      <th></th>\n",
       "      <th>mean_radius</th>\n",
       "      <th>mean_texture</th>\n",
       "      <th>mean_perimeter</th>\n",
       "      <th>mean_area</th>\n",
       "      <th>mean_smoothness</th>\n",
       "      <th>diagnosis</th>\n",
       "    </tr>\n",
       "  </thead>\n",
       "  <tbody>\n",
       "    <tr>\n",
       "      <th>0</th>\n",
       "      <td>17.99</td>\n",
       "      <td>10.38</td>\n",
       "      <td>122.80</td>\n",
       "      <td>1001.0</td>\n",
       "      <td>0.11840</td>\n",
       "      <td>0</td>\n",
       "    </tr>\n",
       "    <tr>\n",
       "      <th>1</th>\n",
       "      <td>20.57</td>\n",
       "      <td>17.77</td>\n",
       "      <td>132.90</td>\n",
       "      <td>1326.0</td>\n",
       "      <td>0.08474</td>\n",
       "      <td>0</td>\n",
       "    </tr>\n",
       "    <tr>\n",
       "      <th>2</th>\n",
       "      <td>19.69</td>\n",
       "      <td>21.25</td>\n",
       "      <td>130.00</td>\n",
       "      <td>1203.0</td>\n",
       "      <td>0.10960</td>\n",
       "      <td>0</td>\n",
       "    </tr>\n",
       "    <tr>\n",
       "      <th>3</th>\n",
       "      <td>11.42</td>\n",
       "      <td>20.38</td>\n",
       "      <td>77.58</td>\n",
       "      <td>386.1</td>\n",
       "      <td>0.14250</td>\n",
       "      <td>0</td>\n",
       "    </tr>\n",
       "    <tr>\n",
       "      <th>4</th>\n",
       "      <td>20.29</td>\n",
       "      <td>14.34</td>\n",
       "      <td>135.10</td>\n",
       "      <td>1297.0</td>\n",
       "      <td>0.10030</td>\n",
       "      <td>0</td>\n",
       "    </tr>\n",
       "  </tbody>\n",
       "</table>\n",
       "</div>"
      ],
      "text/plain": [
       "   mean_radius  mean_texture  mean_perimeter  mean_area  mean_smoothness  \\\n",
       "0        17.99         10.38          122.80     1001.0          0.11840   \n",
       "1        20.57         17.77          132.90     1326.0          0.08474   \n",
       "2        19.69         21.25          130.00     1203.0          0.10960   \n",
       "3        11.42         20.38           77.58      386.1          0.14250   \n",
       "4        20.29         14.34          135.10     1297.0          0.10030   \n",
       "\n",
       "   diagnosis  \n",
       "0          0  \n",
       "1          0  \n",
       "2          0  \n",
       "3          0  \n",
       "4          0  "
      ]
     },
     "execution_count": 4,
     "metadata": {},
     "output_type": "execute_result"
    }
   ],
   "source": [
    "df = pd.read_csv('Data/Breast_cancer_data.csv')\n",
    "df.head()"
   ]
  },
  {
   "cell_type": "code",
   "execution_count": 5,
   "id": "5174a0b9",
   "metadata": {},
   "outputs": [],
   "source": [
    "X = df[['mean_radius', 'mean_texture', 'mean_perimeter', 'mean_area', 'mean_smoothness']]\n",
    "y = df['diagnosis']\n",
    "\n",
    "#split data to test and train\n",
    "X_train, X_test, y_train, y_test = train_test_split(X, y, test_size=0.2, random_state=8)"
   ]
  },
  {
   "cell_type": "code",
   "execution_count": 20,
   "id": "15e423a4",
   "metadata": {},
   "outputs": [],
   "source": [
    "clf = NBGuassianClf()\n",
    "\n",
    "#fit train data\n",
    "clf.fit(np.array(X_train), np.array(y_train))\n",
    "\n",
    "#predict class of test data\n",
    "y_pred = clf.predict(np.array(X_test))"
   ]
  },
  {
   "cell_type": "code",
   "execution_count": 21,
   "id": "ade95d38",
   "metadata": {},
   "outputs": [
    {
     "data": {
      "text/plain": [
       "<AxesSubplot:>"
      ]
     },
     "execution_count": 21,
     "metadata": {},
     "output_type": "execute_result"
    },
    {
     "data": {
      "image/png": "[encoded data removed]",
      "text/plain": [
       "<Figure size 432x288 with 1 Axes>"
      ]
     },
     "metadata": {},
     "output_type": "display_data"
    }
   ],
   "source": [
    "confusion_mtx = confusion_matrix(y_test, y_pred)\n",
    "sns.heatmap(confusion_mtx, square=True, annot=True, fmt='d', cbar=False)"
   ]
  },
  {
   "cell_type": "code",
   "execution_count": 22,
   "id": "c8c0b765",
   "metadata": {},
   "outputs": [],
   "source": [
    "accuracy = accuracy_score(y_test, y_pred)\n",
    "recall = recall_score(y_test, y_pred)\n",
    "precision = precision_score(y_test, y_pred)"
   ]
  },
  {
   "cell_type": "code",
   "execution_count": 23,
   "id": "556875e1",
   "metadata": {},
   "outputs": [
    {
     "name": "stdout",
     "output_type": "stream",
     "text": [
      "accuracy = 0.9298245614035088\n",
      "recall = 0.9852941176470589\n",
      "precision = 0.9054054054054054\n"
     ]
    }
   ],
   "source": [
    "print(f\"accuracy = {accuracy}\")\n",
    "print(f\"recall = {recall}\")\n",
    "print(f\"precision = {precision}\")"
   ]
  },
  {
   "cell_type": "markdown",
   "id": "60ee5145",
   "metadata": {},
   "source": [
    "### part c:\n",
    "implementation with library:"
   ]
  },
  {
   "cell_type": "code",
   "execution_count": 24,
   "id": "fcf53392",
   "metadata": {},
   "outputs": [
    {
     "name": "stderr",
     "output_type": "stream",
     "text": [
      "C:\\Users\\Rayan\\anaconda3\\lib\\site-packages\\sklearn\\base.py:450: UserWarning: X does not have valid feature names, but GaussianNB was fitted with feature names\n",
      "  warnings.warn(\n"
     ]
    }
   ],
   "source": [
    "from sklearn.naive_bayes import GaussianNB   \n",
    "\n",
    "clf2 = GaussianNB()\n",
    "\n",
    "# I use the X_train, X_test, y_train, y_test from previous part\n",
    "#fit train data\n",
    "clf2.fit(X_train, y_train)\n",
    "\n",
    "#train test data\n",
    "y_pred2 = clf2.predict(np.array(X_test))"
   ]
  },
  {
   "cell_type": "code",
   "execution_count": 25,
   "id": "b72299d3",
   "metadata": {},
   "outputs": [
    {
     "data": {
      "text/plain": [
       "<AxesSubplot:>"
      ]
     },
     "execution_count": 25,
     "metadata": {},
     "output_type": "execute_result"
    },
    {
     "data": {
      "image/png": "[encoded data removed]",
      "text/plain": [
       "<Figure size 432x288 with 1 Axes>"
      ]
     },
     "metadata": {},
     "output_type": "display_data"
    }
   ],
   "source": [
    "confusion_mtx = confusion_matrix(y_test, y_pred2)\n",
    "sns.heatmap(confusion_mtx, square=True, annot=True, fmt='d', cbar=False)"
   ]
  },
  {
   "cell_type": "code",
   "execution_count": 26,
   "id": "ff5fefbf",
   "metadata": {},
   "outputs": [],
   "source": [
    "accuracy2 = accuracy_score(y_test, y_pred2)\n",
    "recall2 = recall_score(y_test, y_pred2)\n",
    "precision2 = precision_score(y_test, y_pred2)"
   ]
  },
  {
   "cell_type": "code",
   "execution_count": 27,
   "id": "9e06ea60",
   "metadata": {},
   "outputs": [
    {
     "name": "stdout",
     "output_type": "stream",
     "text": [
      "accuracy = 0.9298245614035088\n",
      "recall = 0.9852941176470589\n",
      "precision = 0.9054054054054054\n"
     ]
    }
   ],
   "source": [
    "print(f\"accuracy = {accuracy2}\")\n",
    "print(f\"recall = {recall2}\")\n",
    "print(f\"precision = {precision2}\")"
   ]
  },
  {
   "cell_type": "code",
   "execution_count": null,
   "id": "d246f3fc",
   "metadata": {},
   "outputs": [],
   "source": []
  },
  {
   "cell_type": "code",
   "execution_count": null,
   "id": "8c3a1961",
   "metadata": {},
   "outputs": [],
   "source": []
  },
  {
   "cell_type": "markdown",
   "id": "414c9e5a",
   "metadata": {},
   "source": [
    "# Question 6"
   ]
  },
  {
   "cell_type": "code",
   "execution_count": 40,
   "id": "ff49d8b3",
   "metadata": {},
   "outputs": [],
   "source": [
    "# !pip install scipy"
   ]
  },
  {
   "cell_type": "code",
   "execution_count": 41,
   "id": "dd8afb7a",
   "metadata": {},
   "outputs": [],
   "source": [
    "# !pip install Pillow"
   ]
  },
  {
   "cell_type": "code",
   "execution_count": 30,
   "id": "463c7176",
   "metadata": {},
   "outputs": [],
   "source": [
    "from PIL import Image\n",
    "from scipy import misc\n",
    "import os\n",
    "from os import listdir\n",
    "import math"
   ]
  },
  {
   "cell_type": "code",
   "execution_count": 31,
   "id": "f97e3fa0",
   "metadata": {},
   "outputs": [],
   "source": [
    "#This function calculate average color (r, g, b) of image given. \n",
    "def compute_average_image_color(img):\n",
    "    width, height = img.size\n",
    "\n",
    "    r_total = 0\n",
    "    g_total = 0\n",
    "    b_total = 0\n",
    "\n",
    "    count = 0\n",
    "    for x in range(0, width):\n",
    "        for y in range(0, height):\n",
    "            r, g, b = img.getpixel((x,y))\n",
    "            r_total += r\n",
    "            g_total += g\n",
    "            b_total += b\n",
    "            count += 1\n",
    "\n",
    "    return (r_total/count, g_total/count, b_total/count)"
   ]
  },
  {
   "cell_type": "code",
   "execution_count": 32,
   "id": "eec9f742",
   "metadata": {},
   "outputs": [],
   "source": [
    "folder_dir = \"/Users/Rayan/Documents/011/ML/ML_HW1/Data/image/Images\"\n",
    "img_data = []\n",
    "\n",
    "#here the loop walks throw of the folder path given\n",
    "for images in os.listdir(folder_dir):\n",
    "    #open the image\n",
    "    img = Image.open(folder_dir + \"/\" + images)\n",
    "    \n",
    "    #get average color of image\n",
    "    cl = list(compute_average_image_color(img))\n",
    "    \n",
    "    #getting class of image by first character of its name\n",
    "    if images[0] == 'c':\n",
    "        cl.append(0)\n",
    "    else:\n",
    "        cl.append(1)\n",
    "    \n",
    "    #add the processed image to the list\n",
    "    img_data.append(cl)\n",
    "\n",
    "#convert list to DataFrame\n",
    "img_data = pd.DataFrame(img_data, columns=[\"r\", \"g\", \"b\", \"class\"])"
   ]
  },
  {
   "cell_type": "code",
   "execution_count": 33,
   "id": "b7dab114",
   "metadata": {},
   "outputs": [
    {
     "data": {
      "text/html": [
       "<div>\n",
       "<style scoped>\n",
       "    .dataframe tbody tr th:only-of-type {\n",
       "        vertical-align: middle;\n",
       "    }\n",
       "\n",
       "    .dataframe tbody tr th {\n",
       "        vertical-align: top;\n",
       "    }\n",
       "\n",
       "    .dataframe thead th {\n",
       "        text-align: right;\n",
       "    }\n",
       "</style>\n",
       "<table border=\"1\" class=\"dataframe\">\n",
       "  <thead>\n",
       "    <tr style=\"text-align: right;\">\n",
       "      <th></th>\n",
       "      <th>r</th>\n",
       "      <th>g</th>\n",
       "      <th>b</th>\n",
       "      <th>class</th>\n",
       "    </tr>\n",
       "  </thead>\n",
       "  <tbody>\n",
       "    <tr>\n",
       "      <th>0</th>\n",
       "      <td>99.266885</td>\n",
       "      <td>113.613790</td>\n",
       "      <td>146.868117</td>\n",
       "      <td>0</td>\n",
       "    </tr>\n",
       "    <tr>\n",
       "      <th>1</th>\n",
       "      <td>171.014902</td>\n",
       "      <td>172.718215</td>\n",
       "      <td>188.230243</td>\n",
       "      <td>0</td>\n",
       "    </tr>\n",
       "    <tr>\n",
       "      <th>2</th>\n",
       "      <td>45.925127</td>\n",
       "      <td>44.929975</td>\n",
       "      <td>50.240636</td>\n",
       "      <td>0</td>\n",
       "    </tr>\n",
       "    <tr>\n",
       "      <th>3</th>\n",
       "      <td>81.871091</td>\n",
       "      <td>103.768452</td>\n",
       "      <td>93.945119</td>\n",
       "      <td>0</td>\n",
       "    </tr>\n",
       "    <tr>\n",
       "      <th>4</th>\n",
       "      <td>95.688082</td>\n",
       "      <td>96.276187</td>\n",
       "      <td>77.863994</td>\n",
       "      <td>0</td>\n",
       "    </tr>\n",
       "    <tr>\n",
       "      <th>...</th>\n",
       "      <td>...</td>\n",
       "      <td>...</td>\n",
       "      <td>...</td>\n",
       "      <td>...</td>\n",
       "    </tr>\n",
       "    <tr>\n",
       "      <th>117</th>\n",
       "      <td>90.832776</td>\n",
       "      <td>51.836400</td>\n",
       "      <td>49.742772</td>\n",
       "      <td>1</td>\n",
       "    </tr>\n",
       "    <tr>\n",
       "      <th>118</th>\n",
       "      <td>164.051626</td>\n",
       "      <td>98.921054</td>\n",
       "      <td>101.093162</td>\n",
       "      <td>1</td>\n",
       "    </tr>\n",
       "    <tr>\n",
       "      <th>119</th>\n",
       "      <td>96.540052</td>\n",
       "      <td>78.758812</td>\n",
       "      <td>52.770046</td>\n",
       "      <td>1</td>\n",
       "    </tr>\n",
       "    <tr>\n",
       "      <th>120</th>\n",
       "      <td>106.566972</td>\n",
       "      <td>77.443221</td>\n",
       "      <td>71.207838</td>\n",
       "      <td>1</td>\n",
       "    </tr>\n",
       "    <tr>\n",
       "      <th>121</th>\n",
       "      <td>83.992513</td>\n",
       "      <td>88.440303</td>\n",
       "      <td>95.798785</td>\n",
       "      <td>1</td>\n",
       "    </tr>\n",
       "  </tbody>\n",
       "</table>\n",
       "<p>122 rows × 4 columns</p>\n",
       "</div>"
      ],
      "text/plain": [
       "              r           g           b  class\n",
       "0     99.266885  113.613790  146.868117      0\n",
       "1    171.014902  172.718215  188.230243      0\n",
       "2     45.925127   44.929975   50.240636      0\n",
       "3     81.871091  103.768452   93.945119      0\n",
       "4     95.688082   96.276187   77.863994      0\n",
       "..          ...         ...         ...    ...\n",
       "117   90.832776   51.836400   49.742772      1\n",
       "118  164.051626   98.921054  101.093162      1\n",
       "119   96.540052   78.758812   52.770046      1\n",
       "120  106.566972   77.443221   71.207838      1\n",
       "121   83.992513   88.440303   95.798785      1\n",
       "\n",
       "[122 rows x 4 columns]"
      ]
     },
     "execution_count": 33,
     "metadata": {},
     "output_type": "execute_result"
    }
   ],
   "source": [
    "img_data"
   ]
  },
  {
   "cell_type": "code",
   "execution_count": 34,
   "id": "d037fefc",
   "metadata": {},
   "outputs": [],
   "source": [
    "def my_classification(X):\n",
    "    chelsea_blue = [0, 20, 137] # class = 0\n",
    "    manutd_red = [199, 1, 2] # class = 1\n",
    "    pred = []\n",
    "    for x in X:\n",
    "        pred_class = None\n",
    "        \n",
    "        #calculate distance from each color. \n",
    "        dist0 = sum((x - chelsea_blue) ** 2)\n",
    "        dist1 = sum((x - manutd_red) ** 2)\n",
    "        \n",
    "        #minimum distance determines the class of the x\n",
    "        if dist0<dist1:\n",
    "            pred_class = 0\n",
    "        else:\n",
    "            pred_class = 1\n",
    "        pred.append(pred_class)\n",
    "    return pred"
   ]
  },
  {
   "cell_type": "code",
   "execution_count": 35,
   "id": "07653119",
   "metadata": {},
   "outputs": [],
   "source": [
    "X = np.array(img_data[['r', 'g', 'b']])\n",
    "y = np.array(img_data['class'])"
   ]
  },
  {
   "cell_type": "code",
   "execution_count": 36,
   "id": "fd8e0913",
   "metadata": {},
   "outputs": [],
   "source": [
    "y_pred = my_classification(X)"
   ]
  },
  {
   "cell_type": "code",
   "execution_count": 37,
   "id": "ba03e0ad",
   "metadata": {},
   "outputs": [
    {
     "data": {
      "text/plain": [
       "<AxesSubplot:>"
      ]
     },
     "execution_count": 37,
     "metadata": {},
     "output_type": "execute_result"
    },
    {
     "data": {
      "image/png": "[encoded data removed]",
      "text/plain": [
       "<Figure size 432x288 with 1 Axes>"
      ]
     },
     "metadata": {},
     "output_type": "display_data"
    }
   ],
   "source": [
    "confusion_mtx = confusion_matrix(y, y_pred)\n",
    "sns.heatmap(confusion_mtx, square=True, annot=True, fmt='d', cbar=False)"
   ]
  },
  {
   "cell_type": "code",
   "execution_count": 38,
   "id": "59a8d8e4",
   "metadata": {},
   "outputs": [],
   "source": [
    "accuracy = accuracy_score(y, y_pred)\n",
    "recall = recall_score(y, y_pred)\n",
    "precision = precision_score(y, y_pred)"
   ]
  },
  {
   "cell_type": "code",
   "execution_count": 39,
   "id": "ca912809",
   "metadata": {},
   "outputs": [
    {
     "name": "stdout",
     "output_type": "stream",
     "text": [
      "accuracy = 0.7213114754098361\n",
      "recall = 0.4482758620689655\n",
      "precision = 0.9285714285714286\n"
     ]
    }
   ],
   "source": [
    "print(f\"accuracy = {accuracy}\")\n",
    "print(f\"recall = {recall}\")\n",
    "print(f\"precision = {precision}\")"
   ]
  },
  {
   "cell_type": "code",
   "execution_count": null,
   "id": "5b99483f",
   "metadata": {},
   "outputs": [],
   "source": []
  }
 ],
 "metadata": {
  "kernelspec": {
   "display_name": "Python 3 (ipykernel)",
   "language": "python",
   "name": "python3"
  },
  "language_info": {
   "codemirror_mode": {
    "name": "ipython",
    "version": 3
   },
   "file_extension": ".py",
   "mimetype": "text/x-python",
   "name": "python",
   "nbconvert_exporter": "python",
   "pygments_lexer": "ipython3",
   "version": "3.9.12"
  }
 },
 "nbformat": 4,
 "nbformat_minor": 5
}
