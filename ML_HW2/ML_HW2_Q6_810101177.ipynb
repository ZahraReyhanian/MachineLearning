{
 "cells": [
  {
   "cell_type": "markdown",
   "id": "de767fe8",
   "metadata": {},
   "source": [
    "# Question 6"
   ]
  },
  {
   "cell_type": "code",
   "execution_count": 1,
   "id": "7a70052f",
   "metadata": {},
   "outputs": [],
   "source": [
    "import warnings\n",
    "warnings.filterwarnings('ignore')\n",
    "import pandas as pd\n",
    "import numpy as np\n",
    "import matplotlib.pyplot as plt\n",
    "import seaborn as sns; sns.set()"
   ]
  },
  {
   "cell_type": "code",
   "execution_count": 2,
   "id": "25c31a30",
   "metadata": {},
   "outputs": [],
   "source": [
    "df = pd.read_csv(\"./Data/Quality.csv\")\n",
    "df.rename(columns={\"0.051267\": \"1,0\", \"0.69956\": \"0,1\", \"1.0\": \"y\"}, inplace = True)"
   ]
  },
  {
   "cell_type": "code",
   "execution_count": 3,
   "id": "ee7e2a7a",
   "metadata": {},
   "outputs": [],
   "source": [
    "for i in range(2, 7):\n",
    "    for j in range(0, i+1):\n",
    "        df[f'{i-j},{j}'] = df['1,0'] ** (i-j) * df['0,1'] ** (j)\n",
    "        \n",
    "y_column = df.pop('y')\n",
    " \n",
    "df.insert(27, 'y', y_column)\n",
    "df['y'] = df['y'].map({0.0: 0, 1.0:1})"
   ]
  },
  {
   "cell_type": "code",
   "execution_count": 4,
   "id": "7e18e152",
   "metadata": {},
   "outputs": [],
   "source": [
    "import numpy as np \n",
    "from numpy import log,dot,exp,shape\n",
    "\n",
    "def standardize(X_tr):\n",
    "    for i in range(shape(X_tr)[1]):\n",
    "        X_tr[:,i] = (X_tr[:,i] - np.mean(X_tr[:,i]))/np.std(X_tr[:,i])\n",
    "\n",
    "class LogisticRegression:\n",
    "    def sigmoid(self,z):\n",
    "        sig = 1/(1+np.exp(-z))\n",
    "        return sig\n",
    "    \n",
    "    def initialize(self,X):\n",
    "        weights = np.zeros((shape(X)[1]+1,1))\n",
    "        X = np.c_[np.ones((shape(X)[0],1)),X]\n",
    "        return weights,X\n",
    "    \n",
    "    def fit(self,X,y,alpha=0.001,iter=400, lambda_=0.1):\n",
    "        weights,X = self.initialize(X)\n",
    "        m = len(y)\n",
    "        def cost(theta):\n",
    "            z = dot(X,theta)\n",
    "            cost0 = y.T.dot(log(self.sigmoid(z)))\n",
    "            cost1 = (1-y).T.dot(log(1-self.sigmoid(z)))\n",
    "            reg_term = lambda_/(2 * m) * sum(theta[1:] ** 2)\n",
    "            cost = -((cost1 + cost0))/m + reg_term \n",
    "            return cost\n",
    "        \n",
    "        cost_list = np.zeros(iter,)\n",
    "        for i in range(iter):\n",
    "            y_prob = self.sigmoid(X @ weights)\n",
    "            err = y_prob - y.reshape((len(y),1))\n",
    "            grad = X.T @ err \n",
    "            \n",
    "            weights[0] = weights[0] - alpha*grad[0]\n",
    "            weights[1:] = weights[1:] - alpha*(grad[1:] + lambda_ * weights[1:])\n",
    "            cost_list[i] = cost(weights)\n",
    "        self.weights = weights\n",
    "        return cost_list\n",
    "    \n",
    "    def predict(self,X):\n",
    "        z = dot(self.initialize(X)[1],self.weights)\n",
    "        lis = []\n",
    "        self.prob = []\n",
    "        for i in self.sigmoid(z):\n",
    "            self.prob.append(i)\n",
    "            if i >= 0.5:\n",
    "                lis.append(1)\n",
    "            else:\n",
    "                lis.append(0)\n",
    "        return lis"
   ]
  },
  {
   "cell_type": "code",
   "execution_count": 5,
   "id": "9a353031",
   "metadata": {},
   "outputs": [
    {
     "data": {
      "text/plain": [
       "array([[10,  1],\n",
       "       [ 2, 11]])"
      ]
     },
     "execution_count": 5,
     "metadata": {},
     "output_type": "execute_result"
    }
   ],
   "source": [
    "from numpy.random import default_rng\n",
    "import math\n",
    "\n",
    "n = df.shape[0]\n",
    "rng = default_rng()\n",
    "train_size = math.floor(0.8 * n)\n",
    "\n",
    "numbers = rng.choice(n, size=train_size, replace=False)\n",
    "\n",
    "train = df.loc[numbers]\n",
    "X_train = train.iloc[:,0:27]\n",
    "y_train = np.array(train['y'])\n",
    "\n",
    "\n",
    "all_index = np.arange(n)\n",
    "test_index = np.delete(all_index, numbers)\n",
    "test = df.loc[test_index]\n",
    "X_test = test.iloc[:,0:27]\n",
    "y_test = np.array(test['y'])\n",
    "\n",
    "standardize(X_train.values)\n",
    "standardize(X_test.values)\n",
    "obj = LogisticRegression()\n",
    "model = obj.fit(X_train,y_train, iter=500, lambda_=10)\n",
    "y_pred = obj.predict(X_test)\n",
    "y_pred = pd.DataFrame(y_pred)[0]\n",
    "\n",
    "confusion_mtx =  [[0]*2 for i in range(2)]\n",
    "for i in range(len(y_pred)):\n",
    "    if y_pred[i] == y_test[i]:\n",
    "        confusion_mtx[y_pred[i]][y_test[i]] +=1\n",
    "    else:\n",
    "        confusion_mtx[y_test[i]][y_pred[i]] +=1\n",
    "confusion_mtx = np.array(confusion_mtx)     \n",
    "confusion_mtx"
   ]
  },
  {
   "cell_type": "code",
   "execution_count": 6,
   "id": "34e9cd42",
   "metadata": {},
   "outputs": [
    {
     "name": "stdout",
     "output_type": "stream",
     "text": [
      "accuracy = 0.875\n",
      "recall = 0.8461538461538461\n",
      "precision = 0.9166666666666666\n",
      "jaccard = 0.7857142857142857\n",
      "f1_score = 0.8799999999999999\n"
     ]
    }
   ],
   "source": [
    "# Recall = TruePositives / (TruePositives + FalseNegatives)\n",
    "# Precision = TruePositives / (TruePositives + FalsePositives)\n",
    "# Jaccard = tp / (tp + fp + fn)\n",
    "# f1_score = 2.(Precision * Recall) / (Precision + Recall)\n",
    "T0=confusion_mtx[0][0]\n",
    "T1=confusion_mtx[1][1]\n",
    "\n",
    "F0=confusion_mtx[1][0]\n",
    "F1=confusion_mtx[0][1]\n",
    "\n",
    "accuracy = (T0 + T1) / len(y_test)\n",
    "recall = T1/(T1 + F0)\n",
    "precision = T1/(T1 + F1)\n",
    "jaccard = T1/(T1+F1+F0)\n",
    "f1 = 2*(precision * recall) / (precision + recall)\n",
    "\n",
    "print(f\"accuracy = {accuracy}\")\n",
    "print(f\"recall = {recall}\")\n",
    "print(f\"precision = {precision}\")\n",
    "print(f\"jaccard = {jaccard}\")\n",
    "print(f\"f1_score = {f1}\")"
   ]
  },
  {
   "cell_type": "code",
   "execution_count": 7,
   "id": "b983437d",
   "metadata": {},
   "outputs": [],
   "source": [
    "columns = X_train.columns\n",
    "\n",
    "w = obj.weights\n",
    "w = w.reshape(shape(w)[0])\n",
    "\n",
    "x1 = np.linspace(-0.75, 1.0, 500)\n",
    "x2 = np.linspace(-0.75, 1.0, 500)\n",
    "X1, X2 = np.meshgrid(x1,x2)\n",
    "\n",
    "F = 0\n",
    "for p, v in zip(columns, w[1:]):\n",
    "    pw = list(map(int, p.split(',')))\n",
    "    F += v * (X1 ** pw[0]) * (X2 ** pw[1])\n",
    "\n",
    "F += w[0]"
   ]
  },
  {
   "cell_type": "code",
   "execution_count": 22,
   "id": "9ac05b32",
   "metadata": {},
   "outputs": [
    {
     "data": {
      "image/png": "[encoded data removed]",
      "text/plain": [
       "<Figure size 432x288 with 1 Axes>"
      ]
     },
     "metadata": {},
     "output_type": "display_data"
    }
   ],
   "source": [
    "plt.scatter(df[df[\"y\"]==1]['1,0'], df[df[\"y\"]==1]['0,1'], c='b', label='class 1', s = 7)\n",
    "plt.scatter(df[df[\"y\"]==0]['1,0'], df[df[\"y\"]==0]['0,1'], c='r', label='class 0', s = 7)\n",
    "plt.contour(X1,X2,F, [-0.5],vmin=0.0, vmax=.6)\n",
    "# plt.contour(X1,X2,F, 30, cmap=\"RdBu\") #display a colored contour\n",
    "# plt.colorbar()\n",
    "plt.legend()\n",
    "plt.xlabel('x1')\n",
    "plt.ylabel('x2')\n",
    "plt.title('Decision Boundary of model')\n",
    "plt.show()"
   ]
  },
  {
   "cell_type": "code",
   "execution_count": null,
   "id": "fbcefe63",
   "metadata": {},
   "outputs": [],
   "source": []
  },
  {
   "cell_type": "code",
   "execution_count": null,
   "id": "1e52f407",
   "metadata": {},
   "outputs": [],
   "source": []
  },
  {
   "cell_type": "code",
   "execution_count": null,
   "id": "2b9840ce",
   "metadata": {},
   "outputs": [],
   "source": []
  }
 ],
 "metadata": {
  "kernelspec": {
   "display_name": "Python 3 (ipykernel)",
   "language": "python",
   "name": "python3"
  },
  "language_info": {
   "codemirror_mode": {
    "name": "ipython",
    "version": 3
   },
   "file_extension": ".py",
   "mimetype": "text/x-python",
   "name": "python",
   "nbconvert_exporter": "python",
   "pygments_lexer": "ipython3",
   "version": "3.9.12"
  }
 },
 "nbformat": 4,
 "nbformat_minor": 5
}
