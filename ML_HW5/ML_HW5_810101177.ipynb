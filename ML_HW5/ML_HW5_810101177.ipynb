{
  "cells": [
    {
      "cell_type": "markdown",
      "id": "c7a47b7a",
      "metadata": {
        "id": "c7a47b7a"
      },
      "source": [
        "# Question 3"
      ]
    },
    {
      "cell_type": "code",
      "execution_count": 10,
      "id": "310d6df0",
      "metadata": {
        "id": "310d6df0"
      },
      "outputs": [],
      "source": [
        "import warnings\n",
        "warnings.filterwarnings('ignore')\n",
        "import numpy as np\n",
        "import pandas as pd\n",
        "import matplotlib.pyplot as plt\n",
        "import seaborn as sns\n",
        "from sklearn.model_selection import train_test_split\n",
        "from sklearn.neighbors import KNeighborsClassifier\n",
        "from sklearn.metrics import classification_report"
      ]
    },
    {
      "cell_type": "code",
      "source": [
        "from google.colab import drive\n",
        "drive.mount('/content/drive')"
      ],
      "metadata": {
        "colab": {
          "base_uri": "https://localhost:8080/"
        },
        "id": "EXd1QOu2qr94",
        "outputId": "994915c7-3efb-4a4a-9891-c7e8d7b01e01"
      },
      "id": "EXd1QOu2qr94",
      "execution_count": 3,
      "outputs": [
        {
          "output_type": "stream",
          "name": "stdout",
          "text": [
            "Mounted at /content/drive\n"
          ]
        }
      ]
    },
    {
      "cell_type": "code",
      "execution_count": 4,
      "id": "ce2cbca7",
      "metadata": {
        "colab": {
          "base_uri": "https://localhost:8080/",
          "height": 305
        },
        "id": "ce2cbca7",
        "outputId": "1fe4154a-a9e3-4c94-d3ff-774a1d11562d"
      },
      "outputs": [
        {
          "output_type": "execute_result",
          "data": {
            "text/plain": [
              "    type  fixed acidity  volatile acidity  citric acid  residual sugar  \\\n",
              "0  white            7.0              0.27         0.36            20.7   \n",
              "1  white            6.3              0.30         0.34             1.6   \n",
              "2  white            8.1              0.28         0.40             6.9   \n",
              "3  white            7.2              0.23         0.32             8.5   \n",
              "4  white            7.2              0.23         0.32             8.5   \n",
              "\n",
              "   chlorides  free sulfur dioxide  total sulfur dioxide  density    pH  \\\n",
              "0      0.045                 45.0                 170.0   1.0010  3.00   \n",
              "1      0.049                 14.0                 132.0   0.9940  3.30   \n",
              "2      0.050                 30.0                  97.0   0.9951  3.26   \n",
              "3      0.058                 47.0                 186.0   0.9956  3.19   \n",
              "4      0.058                 47.0                 186.0   0.9956  3.19   \n",
              "\n",
              "   sulphates  alcohol  quality  \n",
              "0       0.45      8.8        6  \n",
              "1       0.49      9.5        6  \n",
              "2       0.44     10.1        6  \n",
              "3       0.40      9.9        6  \n",
              "4       0.40      9.9        6  "
            ],
            "text/html": [
              "\n",
              "  <div id=\"df-ca3f771c-9b7b-4dbc-8439-580efb7e8a35\">\n",
              "    <div class=\"colab-df-container\">\n",
              "      <div>\n",
              "<style scoped>\n",
              "    .dataframe tbody tr th:only-of-type {\n",
              "        vertical-align: middle;\n",
              "    }\n",
              "\n",
              "    .dataframe tbody tr th {\n",
              "        vertical-align: top;\n",
              "    }\n",
              "\n",
              "    .dataframe thead th {\n",
              "        text-align: right;\n",
              "    }\n",
              "</style>\n",
              "<table border=\"1\" class=\"dataframe\">\n",
              "  <thead>\n",
              "    <tr style=\"text-align: right;\">\n",
              "      <th></th>\n",
              "      <th>type</th>\n",
              "      <th>fixed acidity</th>\n",
              "      <th>volatile acidity</th>\n",
              "      <th>citric acid</th>\n",
              "      <th>residual sugar</th>\n",
              "      <th>chlorides</th>\n",
              "      <th>free sulfur dioxide</th>\n",
              "      <th>total sulfur dioxide</th>\n",
              "      <th>density</th>\n",
              "      <th>pH</th>\n",
              "      <th>sulphates</th>\n",
              "      <th>alcohol</th>\n",
              "      <th>quality</th>\n",
              "    </tr>\n",
              "  </thead>\n",
              "  <tbody>\n",
              "    <tr>\n",
              "      <th>0</th>\n",
              "      <td>white</td>\n",
              "      <td>7.0</td>\n",
              "      <td>0.27</td>\n",
              "      <td>0.36</td>\n",
              "      <td>20.7</td>\n",
              "      <td>0.045</td>\n",
              "      <td>45.0</td>\n",
              "      <td>170.0</td>\n",
              "      <td>1.0010</td>\n",
              "      <td>3.00</td>\n",
              "      <td>0.45</td>\n",
              "      <td>8.8</td>\n",
              "      <td>6</td>\n",
              "    </tr>\n",
              "    <tr>\n",
              "      <th>1</th>\n",
              "      <td>white</td>\n",
              "      <td>6.3</td>\n",
              "      <td>0.30</td>\n",
              "      <td>0.34</td>\n",
              "      <td>1.6</td>\n",
              "      <td>0.049</td>\n",
              "      <td>14.0</td>\n",
              "      <td>132.0</td>\n",
              "      <td>0.9940</td>\n",
              "      <td>3.30</td>\n",
              "      <td>0.49</td>\n",
              "      <td>9.5</td>\n",
              "      <td>6</td>\n",
              "    </tr>\n",
              "    <tr>\n",
              "      <th>2</th>\n",
              "      <td>white</td>\n",
              "      <td>8.1</td>\n",
              "      <td>0.28</td>\n",
              "      <td>0.40</td>\n",
              "      <td>6.9</td>\n",
              "      <td>0.050</td>\n",
              "      <td>30.0</td>\n",
              "      <td>97.0</td>\n",
              "      <td>0.9951</td>\n",
              "      <td>3.26</td>\n",
              "      <td>0.44</td>\n",
              "      <td>10.1</td>\n",
              "      <td>6</td>\n",
              "    </tr>\n",
              "    <tr>\n",
              "      <th>3</th>\n",
              "      <td>white</td>\n",
              "      <td>7.2</td>\n",
              "      <td>0.23</td>\n",
              "      <td>0.32</td>\n",
              "      <td>8.5</td>\n",
              "      <td>0.058</td>\n",
              "      <td>47.0</td>\n",
              "      <td>186.0</td>\n",
              "      <td>0.9956</td>\n",
              "      <td>3.19</td>\n",
              "      <td>0.40</td>\n",
              "      <td>9.9</td>\n",
              "      <td>6</td>\n",
              "    </tr>\n",
              "    <tr>\n",
              "      <th>4</th>\n",
              "      <td>white</td>\n",
              "      <td>7.2</td>\n",
              "      <td>0.23</td>\n",
              "      <td>0.32</td>\n",
              "      <td>8.5</td>\n",
              "      <td>0.058</td>\n",
              "      <td>47.0</td>\n",
              "      <td>186.0</td>\n",
              "      <td>0.9956</td>\n",
              "      <td>3.19</td>\n",
              "      <td>0.40</td>\n",
              "      <td>9.9</td>\n",
              "      <td>6</td>\n",
              "    </tr>\n",
              "  </tbody>\n",
              "</table>\n",
              "</div>\n",
              "      <button class=\"colab-df-convert\" onclick=\"convertToInteractive('df-ca3f771c-9b7b-4dbc-8439-580efb7e8a35')\"\n",
              "              title=\"Convert this dataframe to an interactive table.\"\n",
              "              style=\"display:none;\">\n",
              "        \n",
              "  <svg xmlns=\"http://www.w3.org/2000/svg\" height=\"24px\"viewBox=\"0 0 24 24\"\n",
              "       width=\"24px\">\n",
              "    <path d=\"M0 0h24v24H0V0z\" fill=\"none\"/>\n",
              "    <path d=\"M18.56 5.44l.94 2.06.94-2.06 2.06-.94-2.06-.94-.94-2.06-.94 2.06-2.06.94zm-11 1L8.5 8.5l.94-2.06 2.06-.94-2.06-.94L8.5 2.5l-.94 2.06-2.06.94zm10 10l.94 2.06.94-2.06 2.06-.94-2.06-.94-.94-2.06-.94 2.06-2.06.94z\"/><path d=\"M17.41 7.96l-1.37-1.37c-.4-.4-.92-.59-1.43-.59-.52 0-1.04.2-1.43.59L10.3 9.45l-7.72 7.72c-.78.78-.78 2.05 0 2.83L4 21.41c.39.39.9.59 1.41.59.51 0 1.02-.2 1.41-.59l7.78-7.78 2.81-2.81c.8-.78.8-2.07 0-2.86zM5.41 20L4 18.59l7.72-7.72 1.47 1.35L5.41 20z\"/>\n",
              "  </svg>\n",
              "      </button>\n",
              "      \n",
              "  <style>\n",
              "    .colab-df-container {\n",
              "      display:flex;\n",
              "      flex-wrap:wrap;\n",
              "      gap: 12px;\n",
              "    }\n",
              "\n",
              "    .colab-df-convert {\n",
              "      background-color: #E8F0FE;\n",
              "      border: none;\n",
              "      border-radius: 50%;\n",
              "      cursor: pointer;\n",
              "      display: none;\n",
              "      fill: #1967D2;\n",
              "      height: 32px;\n",
              "      padding: 0 0 0 0;\n",
              "      width: 32px;\n",
              "    }\n",
              "\n",
              "    .colab-df-convert:hover {\n",
              "      background-color: #E2EBFA;\n",
              "      box-shadow: 0px 1px 2px rgba(60, 64, 67, 0.3), 0px 1px 3px 1px rgba(60, 64, 67, 0.15);\n",
              "      fill: #174EA6;\n",
              "    }\n",
              "\n",
              "    [theme=dark] .colab-df-convert {\n",
              "      background-color: #3B4455;\n",
              "      fill: #D2E3FC;\n",
              "    }\n",
              "\n",
              "    [theme=dark] .colab-df-convert:hover {\n",
              "      background-color: #434B5C;\n",
              "      box-shadow: 0px 1px 3px 1px rgba(0, 0, 0, 0.15);\n",
              "      filter: drop-shadow(0px 1px 2px rgba(0, 0, 0, 0.3));\n",
              "      fill: #FFFFFF;\n",
              "    }\n",
              "  </style>\n",
              "\n",
              "      <script>\n",
              "        const buttonEl =\n",
              "          document.querySelector('#df-ca3f771c-9b7b-4dbc-8439-580efb7e8a35 button.colab-df-convert');\n",
              "        buttonEl.style.display =\n",
              "          google.colab.kernel.accessAllowed ? 'block' : 'none';\n",
              "\n",
              "        async function convertToInteractive(key) {\n",
              "          const element = document.querySelector('#df-ca3f771c-9b7b-4dbc-8439-580efb7e8a35');\n",
              "          const dataTable =\n",
              "            await google.colab.kernel.invokeFunction('convertToInteractive',\n",
              "                                                     [key], {});\n",
              "          if (!dataTable) return;\n",
              "\n",
              "          const docLinkHtml = 'Like what you see? Visit the ' +\n",
              "            '<a target=\"_blank\" href=https://colab.research.google.com/notebooks/data_table.ipynb>data table notebook</a>'\n",
              "            + ' to learn more about interactive tables.';\n",
              "          element.innerHTML = '';\n",
              "          dataTable['output_type'] = 'display_data';\n",
              "          await google.colab.output.renderOutput(dataTable, element);\n",
              "          const docLink = document.createElement('div');\n",
              "          docLink.innerHTML = docLinkHtml;\n",
              "          element.appendChild(docLink);\n",
              "        }\n",
              "      </script>\n",
              "    </div>\n",
              "  </div>\n",
              "  "
            ]
          },
          "metadata": {},
          "execution_count": 4
        }
      ],
      "source": [
        "df = pd.read_csv('/content/drive/MyDrive/ML_HW5/Q3_winequalityN.csv')\n",
        "df.head()"
      ]
    },
    {
      "cell_type": "code",
      "execution_count": 5,
      "id": "049f627b",
      "metadata": {
        "colab": {
          "base_uri": "https://localhost:8080/"
        },
        "id": "049f627b",
        "outputId": "b89b19ae-cfd5-4aa0-8d26-c777c308bf6f"
      },
      "outputs": [
        {
          "output_type": "execute_result",
          "data": {
            "text/plain": [
              "type                     0\n",
              "fixed acidity           10\n",
              "volatile acidity         8\n",
              "citric acid              3\n",
              "residual sugar           2\n",
              "chlorides                2\n",
              "free sulfur dioxide      0\n",
              "total sulfur dioxide     0\n",
              "density                  0\n",
              "pH                       9\n",
              "sulphates                4\n",
              "alcohol                  0\n",
              "quality                  0\n",
              "dtype: int64"
            ]
          },
          "metadata": {},
          "execution_count": 5
        }
      ],
      "source": [
        "df.isna().sum()"
      ]
    },
    {
      "cell_type": "code",
      "execution_count": 6,
      "id": "75a57a97",
      "metadata": {
        "id": "75a57a97"
      },
      "outputs": [],
      "source": [
        "df = df.dropna()"
      ]
    },
    {
      "cell_type": "code",
      "execution_count": 7,
      "id": "0cbc77f5",
      "metadata": {
        "id": "0cbc77f5"
      },
      "outputs": [],
      "source": [
        "X = df.iloc[:,1:]\n",
        "y = df['type']"
      ]
    },
    {
      "cell_type": "code",
      "execution_count": 8,
      "id": "42336447",
      "metadata": {
        "id": "42336447"
      },
      "outputs": [],
      "source": [
        "knn = KNeighborsClassifier(n_neighbors=10, weights='distance', metric='manhattan', algorithm='ball_tree')"
      ]
    },
    {
      "cell_type": "code",
      "execution_count": 9,
      "id": "23dec050",
      "metadata": {
        "id": "23dec050"
      },
      "outputs": [],
      "source": [
        "def calculate_score(model, X, y):\n",
        "    model.fit(X, y)\n",
        "    return model.score(X, y)\n",
        "\n",
        "def sfs(model, X, y, k): \n",
        "    n_features = X.shape[1] \n",
        "    # Initialize the list of indices to include in the model \n",
        "    included = [] \n",
        "\n",
        "    # Loop until k features are selected \n",
        "    while len(included) < k: \n",
        "\n",
        "        # Initialize best score and best feature to -1 \n",
        "        best_score = -1 \n",
        "        best_feature = -1\n",
        "\n",
        "        # Loop over all features not already included in the model \n",
        "        for i in range(n_features): \n",
        "\n",
        "            if i not in included:  \n",
        "\n",
        "                # Create a new subset of features including i  \n",
        "                new_included = included + [i]  \n",
        "\n",
        "                # Calculate score with new subset of features  \n",
        "                score = calculate_score(model, X.iloc[:, new_included], y)  \n",
        "\n",
        "                # If score is better than current best, update best score and feature  \n",
        "                if score > best_score:  \n",
        "                    best_score = score  \n",
        "                    best_feature = i  \n",
        "\n",
        "        # Add the feature with the highest score to the model    \n",
        "        included.append(best_feature)    \n",
        "\n",
        "    return included"
      ]
    },
    {
      "cell_type": "code",
      "execution_count": 10,
      "id": "94e7f107",
      "metadata": {
        "id": "94e7f107"
      },
      "outputs": [],
      "source": [
        "indeces = sfs(knn, X, y, 2)\n",
        "sfs_result = list(X.columns[indeces])"
      ]
    },
    {
      "cell_type": "code",
      "execution_count": 12,
      "id": "8e115ba8",
      "metadata": {
        "colab": {
          "base_uri": "https://localhost:8080/",
          "height": 295
        },
        "id": "8e115ba8",
        "outputId": "92664155-3666-497e-8678-bc016d0db0b5"
      },
      "outputs": [
        {
          "output_type": "display_data",
          "data": {
            "text/plain": [
              "<Figure size 432x288 with 1 Axes>"
            ],
            "image/png": "[encoded data removed]"
          },
          "metadata": {
            "needs_background": "light"
          }
        }
      ],
      "source": [
        "sns.scatterplot(data=df, x=sfs_result[0], y=sfs_result[1], hue=\"type\");\n",
        "plt.title(\"Scatter plot of two best features in SFS\");"
      ]
    },
    {
      "cell_type": "code",
      "source": [
        "X[sfs_result]\n",
        "y"
      ],
      "metadata": {
        "colab": {
          "base_uri": "https://localhost:8080/"
        },
        "id": "NpXZjgmpvdAh",
        "outputId": "3655c006-609d-4795-b837-1baed152a9fa"
      },
      "id": "NpXZjgmpvdAh",
      "execution_count": 17,
      "outputs": [
        {
          "output_type": "execute_result",
          "data": {
            "text/plain": [
              "0       white\n",
              "1       white\n",
              "2       white\n",
              "3       white\n",
              "4       white\n",
              "        ...  \n",
              "6491      red\n",
              "6492      red\n",
              "6494      red\n",
              "6495      red\n",
              "6496      red\n",
              "Name: type, Length: 6463, dtype: object"
            ]
          },
          "metadata": {},
          "execution_count": 17
        }
      ]
    },
    {
      "cell_type": "code",
      "source": [
        "from sklearn.metrics import mean_squared_error\n",
        "from sklearn.model_selection import train_test_split\n",
        "import time\n",
        "\n",
        "sfs_err_train = list()\n",
        "sfs_err_test = list()\n",
        "\n",
        "n_samples, n_features = X.shape\n",
        "\n",
        "y_code = pd.factorize(df['type'])[0]\n",
        "\n",
        "X_train, X_test, y_train, y_test = train_test_split(X, y_code, test_size=0.3)\n",
        "\n",
        "time_sum = 0\n",
        "\n",
        "for i in range(n_features):\n",
        "    knn = KNeighborsClassifier(n_neighbors=10, weights='distance', metric='manhattan', algorithm='ball_tree') \n",
        "    init_time = time.time()\n",
        "    indeces = sfs(knn, X_train, y_train, i+1)\n",
        "    time_sum += time.time() - init_time\n",
        "    sfs_result = list(X_train.columns[indeces])\n",
        "    knn.fit(X_train[sfs_result], y_train)\n",
        "\n",
        "    y_pred = knn.predict(X_train[sfs_result])\n",
        "    mse_train = mean_squared_error(y_train, y_pred)\n",
        "    sfs_err_train.append(mse_train)\n",
        "\n",
        "    y_pred = knn.predict(X_test[sfs_result])\n",
        "    mse_test = mean_squared_error(y_test, y_pred)\n",
        "    sfs_err_test.append(mse_test)\n",
        "    \n",
        "plt.figure(figsize = (5, 5)) \n",
        "plt.plot([int(i) for i in range(1, n_features+1)], sfs_err_train, color=\"y\", label=\"SFS train data error\")\n",
        "plt.plot([int(i) for i in range(1, n_features+1)], sfs_err_test, color=\"b\", label=\"SFS test data error\")\n",
        "\n",
        "plt.title(\"Error plot by number of features in SFS\", color = 'green', fontweight = 'bold') \n",
        "plt.xlabel(\"#Features\", color = 'green', fontweight = 'bold') \n",
        "plt.ylabel(\"MSE\", color = 'green', fontweight = 'bold')\n",
        "\n",
        "plt.legend(loc=\"best\")\n",
        "plt.show()"
      ],
      "metadata": {
        "colab": {
          "base_uri": "https://localhost:8080/",
          "height": 350
        },
        "id": "d8ICTxaGrVHH",
        "outputId": "bb7949f0-8ffd-45b5-a338-66fa5dfcdefe"
      },
      "id": "d8ICTxaGrVHH",
      "execution_count": 31,
      "outputs": [
        {
          "output_type": "display_data",
          "data": {
            "text/plain": [
              "<Figure size 360x360 with 1 Axes>"
            ],
            "image/png": "[encoded data removed]"
          },
          "metadata": {
            "needs_background": "light"
          }
        }
      ]
    },
    {
      "cell_type": "code",
      "source": [
        "time_ave_sfs = time_sum / n_features\n",
        "print(f'Average time for sfs {time_ave_sfs}')"
      ],
      "metadata": {
        "colab": {
          "base_uri": "https://localhost:8080/"
        },
        "id": "SBrRhm9R27nd",
        "outputId": "9ebcd5e6-d053-472c-c326-47ea550cba69"
      },
      "id": "SBrRhm9R27nd",
      "execution_count": 32,
      "outputs": [
        {
          "output_type": "stream",
          "name": "stdout",
          "text": [
            "Average time for sfs 2.8563741048177085\n"
          ]
        }
      ]
    },
    {
      "cell_type": "code",
      "execution_count": 13,
      "id": "7aa5f238",
      "metadata": {
        "id": "7aa5f238"
      },
      "outputs": [],
      "source": [
        "#Defining the RFE function \n",
        "def RFE(model, X, y, num_features): \n",
        "\n",
        "    #Initializing the variables \n",
        "    n_samples, n_features = X.shape \n",
        "    accuracy_list = [] #list to store accuracy scores of each iteration \n",
        "\n",
        "    #Looping over all the features of X \n",
        "    for feature in range(n_features):  \n",
        "        #Creating a copy of X and removing the feature column from it  \n",
        "        X_subset = X.drop(X.columns[feature], axis = 1)  \n",
        "\n",
        "        #Fitting a model on the new dataset and calculating its score  \n",
        "        score = calculate_score(model, X_subset, y) \n",
        "\n",
        "        #Appending the score to the list  \n",
        "        accuracy_list.append(score)  \n",
        "\n",
        "    #Finding the index of the feature with highest accuracy score    \n",
        "    index = np.argmax(accuracy_list)    \n",
        "\n",
        "    #Removing that feature from X    \n",
        "    X = X.drop(X.columns[index], axis = 1)    \n",
        "\n",
        "    #Decrementing num_features by 1    \n",
        "    num_features -= 1    \n",
        "\n",
        "    #Recursively calling RFE until num_features reaches 0    \n",
        "    if (num_features > 0):        \n",
        "        return RFE(model, X, y, num_features)        \n",
        "\n",
        "    else:        \n",
        "        return list(X.columns)"
      ]
    },
    {
      "cell_type": "code",
      "execution_count": 14,
      "id": "c0dab50b",
      "metadata": {
        "id": "c0dab50b"
      },
      "outputs": [],
      "source": [
        "rfe_result = RFE(knn, X, y, 10)"
      ]
    },
    {
      "cell_type": "code",
      "execution_count": 15,
      "id": "59160b9b",
      "metadata": {
        "colab": {
          "base_uri": "https://localhost:8080/",
          "height": 295
        },
        "id": "59160b9b",
        "outputId": "3787bfe6-1448-47a6-f669-7aa3c2c9145b"
      },
      "outputs": [
        {
          "output_type": "display_data",
          "data": {
            "text/plain": [
              "<Figure size 432x288 with 1 Axes>"
            ],
            "image/png": "[encoded data removed]"
          },
          "metadata": {
            "needs_background": "light"
          }
        }
      ],
      "source": [
        "sns.scatterplot(data=df, x=rfe_result[0], y=rfe_result[1], hue=\"type\");\n",
        "plt.title(\"Scatter plot of two best features in RFE\");"
      ]
    },
    {
      "cell_type": "code",
      "execution_count": 33,
      "id": "12871ba0",
      "metadata": {
        "colab": {
          "base_uri": "https://localhost:8080/",
          "height": 350
        },
        "id": "12871ba0",
        "outputId": "a5098ba0-96e3-42ca-cb10-6b2b430a94f9"
      },
      "outputs": [
        {
          "output_type": "display_data",
          "data": {
            "text/plain": [
              "<Figure size 360x360 with 1 Axes>"
            ],
            "image/png": "[encoded data removed]"
          },
          "metadata": {
            "needs_background": "light"
          }
        }
      ],
      "source": [
        "rfe_err_train = list()\n",
        "rfe_err_test = list()\n",
        "\n",
        "n_samples, n_features = X.shape\n",
        "\n",
        "y_code = pd.factorize(df['type'])[0]\n",
        "\n",
        "X_train, X_test, y_train, y_test = train_test_split(X, y_code, test_size=0.3)\n",
        "\n",
        "time_sum = 0\n",
        "\n",
        "for i in range(n_features):\n",
        "    knn = KNeighborsClassifier(n_neighbors=10, weights='distance', metric='manhattan', algorithm='ball_tree') \n",
        "    init_time = time.time()\n",
        "    rfe_result = RFE(knn, X, y, n_features-i-1)\n",
        "    time_sum += time.time() - init_time\n",
        "    knn.fit(X_train[rfe_result], y_train)\n",
        "\n",
        "    y_pred = knn.predict(X_train[rfe_result])\n",
        "    mse_train = mean_squared_error(y_train, y_pred)\n",
        "    rfe_err_train.append(mse_train)\n",
        "\n",
        "    y_pred = knn.predict(X_test[rfe_result])\n",
        "    mse_test = mean_squared_error(y_test, y_pred)\n",
        "    rfe_err_test.append(mse_test)\n",
        "    \n",
        "plt.figure(figsize = (5, 5)) \n",
        "plt.plot([int(i) for i in range(1, n_features+1)], rfe_err_train, color=\"y\", label=\"RFE train data error\")\n",
        "plt.plot([int(i) for i in range(1, n_features+1)], rfe_err_test, color=\"b\", label=\"RFE test data error\")\n",
        "\n",
        "plt.title(\"Error plot by number of features in RFE\", color = 'green', fontweight = 'bold') \n",
        "plt.xlabel(\"#Features\", color = 'green', fontweight = 'bold') \n",
        "plt.ylabel(\"MSE\", color = 'green', fontweight = 'bold')\n",
        "\n",
        "plt.legend(loc=\"best\")\n",
        "plt.show()"
      ]
    },
    {
      "cell_type": "code",
      "source": [
        "time_ave_rfe = time_sum / n_features\n",
        "print(f'Average time for rfe {time_ave_rfe}')"
      ],
      "metadata": {
        "colab": {
          "base_uri": "https://localhost:8080/"
        },
        "id": "qDK_SfJW3bXP",
        "outputId": "e11b9e41-126d-467c-ac39-31fa5128a336"
      },
      "id": "qDK_SfJW3bXP",
      "execution_count": 34,
      "outputs": [
        {
          "output_type": "stream",
          "name": "stdout",
          "text": [
            "Average time for rfe 7.497432788213094\n"
          ]
        }
      ]
    },
    {
      "cell_type": "markdown",
      "id": "c35dd809",
      "metadata": {
        "id": "c35dd809"
      },
      "source": [
        "# Question 4"
      ]
    },
    {
      "cell_type": "code",
      "execution_count": 18,
      "id": "41625cff",
      "metadata": {
        "id": "41625cff"
      },
      "outputs": [],
      "source": [
        "import imageio\n",
        "import os\n",
        "import matplotlib.pyplot as plt\n",
        "import numpy as np"
      ]
    },
    {
      "cell_type": "code",
      "execution_count": 19,
      "id": "9e9d3ba2",
      "metadata": {
        "colab": {
          "base_uri": "https://localhost:8080/",
          "height": 305
        },
        "id": "9e9d3ba2",
        "outputId": "d4752aee-c306-4f09-87ca-dd9a8c34419f"
      },
      "outputs": [
        {
          "output_type": "stream",
          "name": "stdout",
          "text": [
            "number of train data images is 154 and number of features for each image is 65536\n",
            "number of test data images is 59 and number of features for each image is 65536\n"
          ]
        },
        {
          "output_type": "display_data",
          "data": {
            "text/plain": [
              "<Figure size 432x288 with 1 Axes>"
            ],
            "image/png": "[encoded data removed]"
          },
          "metadata": {
            "needs_background": "light"
          }
        }
      ],
      "source": [
        "def loadImages(dirName):\n",
        "    # This function loads images from any directory\n",
        "    # :param str dirName: is address of the directory (string)\n",
        "\n",
        "    data = []\n",
        "    label = []\n",
        "    for root, dirs, files in os.walk(dirName):\n",
        "        for file in files:\n",
        "            face = imageio.imread(os.path.join(root, file)) # Load image from a path\n",
        "            face = face.reshape(256 * 256, ).tolist()          # Flatten image . Note: size of any image is 256,256\n",
        "            data.append(face)\n",
        "            label.append(file.split('.')[1])                   # Label of an image is in its fileName\n",
        "    return np.asarray(data) , label\n",
        "\n",
        "\n",
        "train_data , train_label = loadImages('/content/drive/MyDrive/ML_HW5/FACES/train')\n",
        "test_data , test_label = loadImages('/content/drive/MyDrive/ML_HW5/FACES/test')\n",
        "\n",
        "\n",
        "print(\"number of train data images is\" , train_data.shape[0] , \"and number of features for each image is\", train_data.shape[1])\n",
        "print(\"number of test data images is\" , test_data.shape[0] , \"and number of features for each image is\", test_data.shape[1])\n",
        "\n",
        "### To show each images, you should reshape it to 256,256 and then use 'plt.imshow'\n",
        "plt.imshow(train_data[0].reshape(256,256) , cmap='gray')\n",
        "plt.show()"
      ]
    },
    {
      "cell_type": "code",
      "execution_count": 20,
      "id": "214168c1",
      "metadata": {
        "colab": {
          "base_uri": "https://localhost:8080/",
          "height": 295
        },
        "id": "214168c1",
        "outputId": "56b1d6ac-b282-4e7e-c84d-a2e8a1f9e8e8"
      },
      "outputs": [
        {
          "output_type": "display_data",
          "data": {
            "text/plain": [
              "<Figure size 432x288 with 1 Axes>"
            ],
            "image/png": "[encoded data removed]"
          },
          "metadata": {
            "needs_background": "light"
          }
        }
      ],
      "source": [
        "from sklearn.preprocessing import StandardScaler  \n",
        "\n",
        "#define columns to use for PCA \n",
        "\n",
        "df = pd.DataFrame(train_data)\n",
        "\n",
        "#define scaler \n",
        "scaler = StandardScaler() \n",
        "\n",
        "#create copy of DataFrame \n",
        "scaled_df=df.copy() \n",
        "\n",
        "#created scaled version of DataFrame \n",
        "scaled_df=pd.DataFrame(scaler.fit_transform(scaled_df), columns=scaled_df.columns) \n",
        "\n",
        "from sklearn.decomposition import PCA #define PCA model to use \n",
        "\n",
        "pca = PCA(n_components=35) \n",
        "\n",
        "#fit PCA model to data \n",
        "\n",
        "pca_fit = pca.fit(scaled_df) \n",
        "\n",
        "import matplotlib.pyplot as plt \n",
        "import numpy as np \n",
        "\n",
        "PC_values = np.arange(pca.n_components_) + 1 \n",
        "plt.plot(PC_values, pca.explained_variance_ratio_, 'o-', linewidth=2, color='blue') \n",
        "\n",
        "plt.title('Scree Plot') \n",
        "plt.xlabel('Principal Component') \n",
        "plt.ylabel('Variance Explained') \n",
        "plt.show()\n"
      ]
    },
    {
      "cell_type": "code",
      "source": [
        "np.unique(train_label)"
      ],
      "metadata": {
        "colab": {
          "base_uri": "https://localhost:8080/"
        },
        "id": "PTavP5KEQzzw",
        "outputId": "029109cb-bdfe-47ed-a041-72ebc2b4ff4f"
      },
      "id": "PTavP5KEQzzw",
      "execution_count": 21,
      "outputs": [
        {
          "output_type": "execute_result",
          "data": {
            "text/plain": [
              "array(['angry', 'disgust', 'fear', 'happy', 'sad', 'surprise'],\n",
              "      dtype='<U8')"
            ]
          },
          "metadata": {},
          "execution_count": 21
        }
      ]
    },
    {
      "cell_type": "code",
      "source": [
        "np.unique(test_label)"
      ],
      "metadata": {
        "colab": {
          "base_uri": "https://localhost:8080/"
        },
        "id": "g4Nu11U-Qz3x",
        "outputId": "789a6bf3-9684-4262-ff14-87b9aee15a9e"
      },
      "id": "g4Nu11U-Qz3x",
      "execution_count": 22,
      "outputs": [
        {
          "output_type": "execute_result",
          "data": {
            "text/plain": [
              "array(['disgust', 'fear', 'happy', 'sad', 'surprise'], dtype='<U8')"
            ]
          },
          "metadata": {},
          "execution_count": 22
        }
      ]
    },
    {
      "cell_type": "markdown",
      "source": [
        "## KNN for pure data"
      ],
      "metadata": {
        "id": "s0DOk1kP8NKX"
      },
      "id": "s0DOk1kP8NKX"
    },
    {
      "cell_type": "code",
      "source": [
        "from sklearn.metrics import confusion_matrix"
      ],
      "metadata": {
        "id": "bbsdq0Sz889w"
      },
      "id": "bbsdq0Sz889w",
      "execution_count": 23,
      "outputs": []
    },
    {
      "cell_type": "code",
      "source": [
        "knn1 = KNeighborsClassifier(n_neighbors=1, weights='distance', metric='manhattan', algorithm='ball_tree')\n",
        "knn1.fit(train_data,train_label)\n",
        "y_pred1 = knn1.predict(test_data)\n",
        "\n",
        "confusion_mtx = confusion_matrix(test_label, y_pred1)\n",
        "sns.heatmap(confusion_mtx, square=True, annot=True, fmt='d', cbar=True);"
      ],
      "metadata": {
        "colab": {
          "base_uri": "https://localhost:8080/",
          "height": 265
        },
        "id": "qbmzYYS37v2_",
        "outputId": "a9d70a75-763a-4210-8c29-c1e61c18b0d0"
      },
      "id": "qbmzYYS37v2_",
      "execution_count": 24,
      "outputs": [
        {
          "output_type": "display_data",
          "data": {
            "text/plain": [
              "<Figure size 432x288 with 2 Axes>"
            ],
            "image/png": "[encoded data removed]"
          },
          "metadata": {
            "needs_background": "light"
          }
        }
      ]
    },
    {
      "cell_type": "code",
      "source": [
        "print(classification_report(test_label, y_pred1))"
      ],
      "metadata": {
        "colab": {
          "base_uri": "https://localhost:8080/"
        },
        "id": "akqzLFUmD4Pa",
        "outputId": "16017e52-9c37-453d-e77d-f6ee997373d5"
      },
      "id": "akqzLFUmD4Pa",
      "execution_count": 25,
      "outputs": [
        {
          "output_type": "stream",
          "name": "stdout",
          "text": [
            "              precision    recall  f1-score   support\n",
            "\n",
            "     disgust       0.92      1.00      0.96        11\n",
            "        fear       0.90      0.75      0.82        12\n",
            "       happy       0.83      0.94      0.88        16\n",
            "         sad       0.70      0.70      0.70        10\n",
            "    surprise       0.89      0.80      0.84        10\n",
            "\n",
            "    accuracy                           0.85        59\n",
            "   macro avg       0.85      0.84      0.84        59\n",
            "weighted avg       0.85      0.85      0.85        59\n",
            "\n"
          ]
        }
      ]
    },
    {
      "cell_type": "code",
      "source": [
        "knn2 = KNeighborsClassifier(n_neighbors=2, weights='distance', metric='manhattan', algorithm='ball_tree')\n",
        "knn2.fit(train_data,train_label)\n",
        "y_pred2 = knn2.predict(test_data)\n",
        "\n",
        "confusion_mtx = confusion_matrix(test_label, y_pred2)\n",
        "sns.heatmap(confusion_mtx, square=True, annot=True, fmt='d', cbar=True);"
      ],
      "metadata": {
        "colab": {
          "base_uri": "https://localhost:8080/",
          "height": 265
        },
        "id": "ApCXFAwR7v6G",
        "outputId": "4f58c9bc-8317-41cc-8d3e-05a3dfc5d7b3"
      },
      "id": "ApCXFAwR7v6G",
      "execution_count": 26,
      "outputs": [
        {
          "output_type": "display_data",
          "data": {
            "text/plain": [
              "<Figure size 432x288 with 2 Axes>"
            ],
            "image/png": "[encoded data removed]"
          },
          "metadata": {
            "needs_background": "light"
          }
        }
      ]
    },
    {
      "cell_type": "code",
      "source": [
        "print(classification_report(test_label, y_pred2))"
      ],
      "metadata": {
        "colab": {
          "base_uri": "https://localhost:8080/"
        },
        "id": "oIqN5Pe9D9RK",
        "outputId": "14d9dbcb-44c3-4dc0-b479-0def6f068b13"
      },
      "id": "oIqN5Pe9D9RK",
      "execution_count": 27,
      "outputs": [
        {
          "output_type": "stream",
          "name": "stdout",
          "text": [
            "              precision    recall  f1-score   support\n",
            "\n",
            "     disgust       0.92      1.00      0.96        11\n",
            "        fear       0.90      0.75      0.82        12\n",
            "       happy       0.83      0.94      0.88        16\n",
            "         sad       0.70      0.70      0.70        10\n",
            "    surprise       0.89      0.80      0.84        10\n",
            "\n",
            "    accuracy                           0.85        59\n",
            "   macro avg       0.85      0.84      0.84        59\n",
            "weighted avg       0.85      0.85      0.85        59\n",
            "\n"
          ]
        }
      ]
    },
    {
      "cell_type": "markdown",
      "source": [
        "## PCA"
      ],
      "metadata": {
        "id": "59d3ESOCPK2w"
      },
      "id": "59d3ESOCPK2w"
    },
    {
      "cell_type": "code",
      "source": [
        "# pca on train data\n",
        "scaler = StandardScaler() \n",
        "train_data_s = scaler.fit_transform(train_data)\n",
        "pca1 = PCA(n_components=35) \n",
        "\n",
        "components_train = pca1.fit_transform(train_data_s) \n",
        "X_train_pca = pd.DataFrame(components_train)\n",
        "\n",
        "# pca on test data\n",
        "scaler = StandardScaler() \n",
        "test_data_s = scaler.fit_transform(test_data)\n",
        "pca2 = PCA(n_components=35) \n",
        "\n",
        "components_test = pca2.fit_transform(test_data_s) \n",
        "X_test_pca = pd.DataFrame(components_test)"
      ],
      "metadata": {
        "id": "umdE4ogG_pW3"
      },
      "id": "umdE4ogG_pW3",
      "execution_count": 33,
      "outputs": []
    },
    {
      "cell_type": "markdown",
      "source": [
        "## KNN on PCA data"
      ],
      "metadata": {
        "id": "yVe21_OVPNRh"
      },
      "id": "yVe21_OVPNRh"
    },
    {
      "cell_type": "code",
      "source": [
        "knn_pca1 = KNeighborsClassifier(n_neighbors=1, weights='distance', metric='manhattan', algorithm='ball_tree')\n",
        "knn_pca1.fit(X_train_pca,train_label)\n",
        "y_pred1 = knn_pca1.predict(X_test_pca)\n",
        "\n",
        "confusion_mtx = confusion_matrix(test_label, y_pred1)\n",
        "sns.heatmap(confusion_mtx, square=True, annot=True, fmt='d', cbar=True);"
      ],
      "metadata": {
        "colab": {
          "base_uri": "https://localhost:8080/",
          "height": 269
        },
        "id": "mfQuTZfPOs6o",
        "outputId": "b5df5ae1-a33f-4af0-8826-9edd5331a78a"
      },
      "id": "mfQuTZfPOs6o",
      "execution_count": 34,
      "outputs": [
        {
          "output_type": "display_data",
          "data": {
            "text/plain": [
              "<Figure size 432x288 with 2 Axes>"
            ],
            "image/png": "[encoded data removed]"
          },
          "metadata": {
            "needs_background": "light"
          }
        }
      ]
    },
    {
      "cell_type": "code",
      "source": [
        "print(classification_report(test_label, y_pred1))"
      ],
      "metadata": {
        "colab": {
          "base_uri": "https://localhost:8080/"
        },
        "id": "VbClheUyELuZ",
        "outputId": "e57b3890-31a7-48cc-f025-baa37e83d01d"
      },
      "id": "VbClheUyELuZ",
      "execution_count": 35,
      "outputs": [
        {
          "output_type": "stream",
          "name": "stdout",
          "text": [
            "              precision    recall  f1-score   support\n",
            "\n",
            "       angry       0.00      0.00      0.00         0\n",
            "     disgust       0.00      0.00      0.00        11\n",
            "        fear       0.29      0.17      0.21        12\n",
            "       happy       0.35      0.38      0.36        16\n",
            "         sad       0.12      0.30      0.17        10\n",
            "    surprise       0.00      0.00      0.00        10\n",
            "\n",
            "    accuracy                           0.19        59\n",
            "   macro avg       0.13      0.14      0.12        59\n",
            "weighted avg       0.17      0.19      0.17        59\n",
            "\n"
          ]
        }
      ]
    },
    {
      "cell_type": "code",
      "source": [
        "knn_pca2 = KNeighborsClassifier(n_neighbors=2, weights='distance', metric='manhattan', algorithm='ball_tree')\n",
        "knn_pca2.fit(X_train_pca,train_label)\n",
        "y_pred2 = knn_pca2.predict(X_test_pca)\n",
        "\n",
        "confusion_mtx = confusion_matrix(test_label, y_pred2)\n",
        "sns.heatmap(confusion_mtx, square=True, annot=True, fmt='d', cbar=True);"
      ],
      "metadata": {
        "colab": {
          "base_uri": "https://localhost:8080/",
          "height": 269
        },
        "id": "eyJXz1MKOs9m",
        "outputId": "9a779121-442d-4f98-e8b3-1fa9ede1d38d"
      },
      "id": "eyJXz1MKOs9m",
      "execution_count": 36,
      "outputs": [
        {
          "output_type": "display_data",
          "data": {
            "text/plain": [
              "<Figure size 432x288 with 2 Axes>"
            ],
            "image/png": "[encoded data removed]"
          },
          "metadata": {
            "needs_background": "light"
          }
        }
      ]
    },
    {
      "cell_type": "code",
      "source": [
        "print(classification_report(test_label, y_pred2))"
      ],
      "metadata": {
        "colab": {
          "base_uri": "https://localhost:8080/"
        },
        "id": "BxrdSffREN1v",
        "outputId": "96469368-552e-4b88-b45d-6b8aaa31fee3"
      },
      "id": "BxrdSffREN1v",
      "execution_count": 37,
      "outputs": [
        {
          "output_type": "stream",
          "name": "stdout",
          "text": [
            "              precision    recall  f1-score   support\n",
            "\n",
            "       angry       0.00      0.00      0.00         0\n",
            "     disgust       0.00      0.00      0.00        11\n",
            "        fear       0.29      0.17      0.21        12\n",
            "       happy       0.35      0.38      0.36        16\n",
            "         sad       0.12      0.30      0.17        10\n",
            "    surprise       0.00      0.00      0.00        10\n",
            "\n",
            "    accuracy                           0.19        59\n",
            "   macro avg       0.13      0.14      0.12        59\n",
            "weighted avg       0.17      0.19      0.17        59\n",
            "\n"
          ]
        }
      ]
    },
    {
      "cell_type": "code",
      "source": [],
      "metadata": {
        "id": "h8aB8sGKEVge"
      },
      "id": "h8aB8sGKEVge",
      "execution_count": 37,
      "outputs": []
    },
    {
      "cell_type": "code",
      "source": [
        "from sklearn.metrics import accuracy_score\n",
        "pca_acc = list()\n",
        "\n",
        "max_components = min(train_data.shape[0], test_data.shape[0])\n",
        "\n",
        "for i in range(max_components):\n",
        "    # pca on train data\n",
        "    pca1 = PCA(n_components=i+1) \n",
        "    components_train = pca1.fit_transform(train_data_s) \n",
        "    X_train_pca = pd.DataFrame(components_train)\n",
        "\n",
        "    # pca on test data\n",
        "    pca2 = PCA(n_components=i+1) \n",
        "    components_test = pca2.fit_transform(test_data_s) \n",
        "    X_test_pca = pd.DataFrame(components_test)\n",
        "\n",
        "    #applying knn \n",
        "    knn_pca1 = KNeighborsClassifier(n_neighbors=1, weights='distance', metric='manhattan', algorithm='ball_tree')\n",
        "    knn_pca1.fit(X_train_pca,train_label)\n",
        "    y_pred1 = knn_pca1.predict(X_test_pca)\n",
        "\n",
        "    # calculate accuracy\n",
        "    acc = accuracy_score(test_label, y_pred1)\n",
        "    pca_acc.append(acc)\n",
        "    "
      ],
      "metadata": {
        "id": "YQI0foyzEkcn"
      },
      "id": "YQI0foyzEkcn",
      "execution_count": 38,
      "outputs": []
    },
    {
      "cell_type": "code",
      "source": [
        "plt.figure(figsize = (5, 5)) \n",
        "plt.plot([int(i) for i in range(1, max_components+1)], pca_acc, color=\"b\")\n",
        "\n",
        "plt.title(\"CCR by number of PCA components\", color = 'green', fontweight = 'bold') \n",
        "plt.xlabel(\"#Components\", color = 'green', fontweight = 'bold') \n",
        "plt.ylabel(\"CCR\", color = 'green', fontweight = 'bold')\n",
        "\n",
        "plt.show()"
      ],
      "metadata": {
        "colab": {
          "base_uri": "https://localhost:8080/",
          "height": 350
        },
        "id": "9KOzJp6gEkfv",
        "outputId": "275e43b6-7bcb-44ae-e449-83a4d40a4c2b"
      },
      "id": "9KOzJp6gEkfv",
      "execution_count": 40,
      "outputs": [
        {
          "output_type": "display_data",
          "data": {
            "text/plain": [
              "<Figure size 360x360 with 1 Axes>"
            ],
            "image/png": "[encoded data removed]"
          },
          "metadata": {
            "needs_background": "light"
          }
        }
      ]
    },
    {
      "cell_type": "markdown",
      "id": "ad8f0e77",
      "metadata": {
        "id": "ad8f0e77"
      },
      "source": [
        "# Question 5"
      ]
    },
    {
      "cell_type": "code",
      "execution_count": 4,
      "id": "53f49bff",
      "metadata": {
        "id": "53f49bff"
      },
      "outputs": [],
      "source": [
        "import numpy as np\n",
        "import matplotlib.pyplot as plt\n",
        "from sklearn.model_selection import train_test_split\n",
        "\n",
        "class LDA:\n",
        "    def __init__(self, n_components=None):\n",
        "        self.n_components = n_components\n",
        "        self.eig_vectors = None\n",
        "    \n",
        "    def transform(self,X,y):\n",
        "        height, width = X.shape\n",
        "        unique_classes = np.unique(y)\n",
        "        num_classes = len(unique_classes)\n",
        "\n",
        "        scatter_t = np.cov(X.T)*(height - 1)\n",
        "        scatter_w = 0\n",
        "        for i in range(num_classes):\n",
        "            class_items = np.flatnonzero(y == unique_classes[i])\n",
        "            scatter_w = scatter_w + np.cov(X_train.loc[class_items, :].T) * (len(class_items)-1)\n",
        "        \n",
        "        scatter_b = scatter_t - scatter_w\n",
        "        _, eig_vectors = np.linalg.eigh(np.linalg.pinv(scatter_w).dot(scatter_b))\n",
        "        pc = X.dot(eig_vectors[:,::-1][:,:self.n_components])\n",
        "        print(pc.shape)\n",
        "        \n",
        "        return pc, scatter_w, scatter_b"
      ]
    },
    {
      "cell_type": "code",
      "execution_count": 5,
      "id": "b76c03d4",
      "metadata": {
        "id": "b76c03d4"
      },
      "outputs": [],
      "source": [
        "X_train = pd.read_csv('/content/drive/MyDrive/ML_HW5/Fashion-MNIST/trainData.csv')\n",
        "y_train = pd.read_csv('/content/drive/MyDrive/ML_HW5/Fashion-MNIST/trainLabels.csv')\n",
        "X_test = pd.read_csv('/content/drive/MyDrive/ML_HW5/Fashion-MNIST/testData.csv')\n",
        "y_test = pd.read_csv('/content/drive/MyDrive/ML_HW5/Fashion-MNIST/testLabels.csv')"
      ]
    },
    {
      "cell_type": "code",
      "source": [
        "LDA_object = LDA()\n",
        "X_train_modified, scatter_w, scatter_b = LDA_object.transform(X_train, y_train)\n",
        "\n",
        "print(\"Original Data Size:\",X_train.shape, \"\\nModified Data Size:\", X_train_modified.shape)"
      ],
      "metadata": {
        "colab": {
          "base_uri": "https://localhost:8080/"
        },
        "id": "pOEp00yIj_Bg",
        "outputId": "6c4aa005-2a14-4b42-d50f-af08db27eedd"
      },
      "id": "pOEp00yIj_Bg",
      "execution_count": 143,
      "outputs": [
        {
          "output_type": "stream",
          "name": "stdout",
          "text": [
            "(59999, 784)\n",
            "Original Data Size: (59999, 784) \n",
            "Modified Data Size: (59999, 784)\n"
          ]
        }
      ]
    },
    {
      "cell_type": "code",
      "source": [
        "Sep_matrix = np.dot(np.linalg.inv(scatter_w), scatter_b)\n",
        "eig_values, eig_vectors = np.linalg.eig(Sep_matrix)"
      ],
      "metadata": {
        "id": "AOE0ZO0gdmKE"
      },
      "id": "AOE0ZO0gdmKE",
      "execution_count": 144,
      "outputs": []
    },
    {
      "cell_type": "code",
      "source": [
        "eig_values_sorted = np.sort(eig_values)[::-1]\n",
        "plt.scatter([int(i) for i in range(eig_values_sorted.shape[0])], eig_values_sorted, s=5)\n",
        "plt.xlabel('index')\n",
        "plt.ylabel('value')\n",
        "plt.title('scatter plot of eigen values')\n",
        "plt.show()"
      ],
      "metadata": {
        "colab": {
          "base_uri": "https://localhost:8080/",
          "height": 295
        },
        "id": "egtLhzXtgGn5",
        "outputId": "5f1911b1-3453-42aa-ed80-de9789e4287b"
      },
      "id": "egtLhzXtgGn5",
      "execution_count": 145,
      "outputs": [
        {
          "output_type": "display_data",
          "data": {
            "text/plain": [
              "<Figure size 432x288 with 1 Axes>"
            ],
            "image/png": "[encoded data removed]"
          },
          "metadata": {
            "needs_background": "light"
          }
        }
      ]
    },
    {
      "cell_type": "code",
      "source": [
        "sep_train = list()\n",
        "sep_test = list()\n",
        "\n",
        "n_samples, n_features = X_train.shape\n",
        "\n",
        "for i in range(n_features):\n",
        "    LDA_object = LDA(n_components=i+1)\n",
        "    X_train_modified, scatter_w, scatter_b = LDA_object.transform(X_train, y_train)\n",
        "    Sep_matrix = np.dot(np.linalg.inv(scatter_w), scatter_b)\n",
        "    sep_train.append(np.trace(Sep_matrix))\n",
        "\n",
        "    LDA_object2 = LDA(n_components=i+1)\n",
        "    X_train_modified2, scatter_w2, scatter_b2 = LDA_object2.transform(X_test, y_test)\n",
        "    Sep_matrix2 = np.dot(np.linalg.inv(scatter_w2), scatter_b2)\n",
        "    sep_test.append(np.trace(Sep_matrix2))"
      ],
      "metadata": {
        "colab": {
          "base_uri": "https://localhost:8080/"
        },
        "id": "hfBov30BicAE",
        "outputId": "0663bfef-866a-48a2-f456-45be36d63704"
      },
      "id": "hfBov30BicAE",
      "execution_count": 146,
      "outputs": [
        {
          "output_type": "stream",
          "name": "stdout",
          "text": [
            "(59999, 1)\n",
            "(9999, 1)\n",
            "(59999, 2)\n",
            "(9999, 2)\n",
            "(59999, 3)\n",
            "(9999, 3)\n",
            "(59999, 4)\n",
            "(9999, 4)\n",
            "(59999, 5)\n",
            "(9999, 5)\n",
            "(59999, 6)\n",
            "(9999, 6)\n",
            "(59999, 7)\n",
            "(9999, 7)\n",
            "(59999, 8)\n",
            "(9999, 8)\n",
            "(59999, 9)\n",
            "(9999, 9)\n",
            "(59999, 10)\n",
            "(9999, 10)\n",
            "(59999, 11)\n",
            "(9999, 11)\n",
            "(59999, 12)\n",
            "(9999, 12)\n",
            "(59999, 13)\n",
            "(9999, 13)\n",
            "(59999, 14)\n",
            "(9999, 14)\n",
            "(59999, 15)\n",
            "(9999, 15)\n",
            "(59999, 16)\n",
            "(9999, 16)\n",
            "(59999, 17)\n",
            "(9999, 17)\n",
            "(59999, 18)\n",
            "(9999, 18)\n",
            "(59999, 19)\n",
            "(9999, 19)\n",
            "(59999, 20)\n",
            "(9999, 20)\n",
            "(59999, 21)\n",
            "(9999, 21)\n",
            "(59999, 22)\n",
            "(9999, 22)\n",
            "(59999, 23)\n",
            "(9999, 23)\n",
            "(59999, 24)\n",
            "(9999, 24)\n",
            "(59999, 25)\n",
            "(9999, 25)\n",
            "(59999, 26)\n",
            "(9999, 26)\n",
            "(59999, 27)\n",
            "(9999, 27)\n",
            "(59999, 28)\n",
            "(9999, 28)\n",
            "(59999, 29)\n",
            "(9999, 29)\n",
            "(59999, 30)\n",
            "(9999, 30)\n",
            "(59999, 31)\n",
            "(9999, 31)\n",
            "(59999, 32)\n",
            "(9999, 32)\n",
            "(59999, 33)\n",
            "(9999, 33)\n",
            "(59999, 34)\n",
            "(9999, 34)\n",
            "(59999, 35)\n",
            "(9999, 35)\n",
            "(59999, 36)\n",
            "(9999, 36)\n",
            "(59999, 37)\n",
            "(9999, 37)\n",
            "(59999, 38)\n",
            "(9999, 38)\n",
            "(59999, 39)\n",
            "(9999, 39)\n",
            "(59999, 40)\n",
            "(9999, 40)\n",
            "(59999, 41)\n",
            "(9999, 41)\n",
            "(59999, 42)\n",
            "(9999, 42)\n",
            "(59999, 43)\n",
            "(9999, 43)\n",
            "(59999, 44)\n",
            "(9999, 44)\n",
            "(59999, 45)\n",
            "(9999, 45)\n",
            "(59999, 46)\n",
            "(9999, 46)\n",
            "(59999, 47)\n",
            "(9999, 47)\n",
            "(59999, 48)\n",
            "(9999, 48)\n",
            "(59999, 49)\n",
            "(9999, 49)\n",
            "(59999, 50)\n",
            "(9999, 50)\n",
            "(59999, 51)\n",
            "(9999, 51)\n",
            "(59999, 52)\n",
            "(9999, 52)\n",
            "(59999, 53)\n",
            "(9999, 53)\n",
            "(59999, 54)\n",
            "(9999, 54)\n",
            "(59999, 55)\n",
            "(9999, 55)\n",
            "(59999, 56)\n",
            "(9999, 56)\n",
            "(59999, 57)\n",
            "(9999, 57)\n",
            "(59999, 58)\n",
            "(9999, 58)\n",
            "(59999, 59)\n",
            "(9999, 59)\n",
            "(59999, 60)\n",
            "(9999, 60)\n",
            "(59999, 61)\n",
            "(9999, 61)\n",
            "(59999, 62)\n",
            "(9999, 62)\n",
            "(59999, 63)\n",
            "(9999, 63)\n",
            "(59999, 64)\n",
            "(9999, 64)\n",
            "(59999, 65)\n",
            "(9999, 65)\n",
            "(59999, 66)\n",
            "(9999, 66)\n",
            "(59999, 67)\n",
            "(9999, 67)\n",
            "(59999, 68)\n",
            "(9999, 68)\n",
            "(59999, 69)\n",
            "(9999, 69)\n",
            "(59999, 70)\n",
            "(9999, 70)\n",
            "(59999, 71)\n",
            "(9999, 71)\n",
            "(59999, 72)\n",
            "(9999, 72)\n",
            "(59999, 73)\n",
            "(9999, 73)\n",
            "(59999, 74)\n",
            "(9999, 74)\n",
            "(59999, 75)\n",
            "(9999, 75)\n",
            "(59999, 76)\n",
            "(9999, 76)\n",
            "(59999, 77)\n",
            "(9999, 77)\n",
            "(59999, 78)\n",
            "(9999, 78)\n",
            "(59999, 79)\n",
            "(9999, 79)\n",
            "(59999, 80)\n",
            "(9999, 80)\n",
            "(59999, 81)\n",
            "(9999, 81)\n",
            "(59999, 82)\n",
            "(9999, 82)\n",
            "(59999, 83)\n",
            "(9999, 83)\n",
            "(59999, 84)\n",
            "(9999, 84)\n",
            "(59999, 85)\n",
            "(9999, 85)\n",
            "(59999, 86)\n",
            "(9999, 86)\n",
            "(59999, 87)\n",
            "(9999, 87)\n",
            "(59999, 88)\n",
            "(9999, 88)\n",
            "(59999, 89)\n",
            "(9999, 89)\n",
            "(59999, 90)\n",
            "(9999, 90)\n",
            "(59999, 91)\n",
            "(9999, 91)\n",
            "(59999, 92)\n",
            "(9999, 92)\n",
            "(59999, 93)\n",
            "(9999, 93)\n",
            "(59999, 94)\n",
            "(9999, 94)\n",
            "(59999, 95)\n",
            "(9999, 95)\n",
            "(59999, 96)\n",
            "(9999, 96)\n",
            "(59999, 97)\n",
            "(9999, 97)\n",
            "(59999, 98)\n",
            "(9999, 98)\n",
            "(59999, 99)\n",
            "(9999, 99)\n",
            "(59999, 100)\n",
            "(9999, 100)\n",
            "(59999, 101)\n",
            "(9999, 101)\n",
            "(59999, 102)\n",
            "(9999, 102)\n",
            "(59999, 103)\n",
            "(9999, 103)\n",
            "(59999, 104)\n",
            "(9999, 104)\n",
            "(59999, 105)\n",
            "(9999, 105)\n",
            "(59999, 106)\n",
            "(9999, 106)\n",
            "(59999, 107)\n",
            "(9999, 107)\n",
            "(59999, 108)\n",
            "(9999, 108)\n",
            "(59999, 109)\n",
            "(9999, 109)\n",
            "(59999, 110)\n",
            "(9999, 110)\n",
            "(59999, 111)\n",
            "(9999, 111)\n",
            "(59999, 112)\n",
            "(9999, 112)\n",
            "(59999, 113)\n",
            "(9999, 113)\n",
            "(59999, 114)\n",
            "(9999, 114)\n",
            "(59999, 115)\n",
            "(9999, 115)\n",
            "(59999, 116)\n",
            "(9999, 116)\n",
            "(59999, 117)\n",
            "(9999, 117)\n",
            "(59999, 118)\n",
            "(9999, 118)\n",
            "(59999, 119)\n",
            "(9999, 119)\n",
            "(59999, 120)\n",
            "(9999, 120)\n",
            "(59999, 121)\n",
            "(9999, 121)\n",
            "(59999, 122)\n",
            "(9999, 122)\n",
            "(59999, 123)\n",
            "(9999, 123)\n",
            "(59999, 124)\n",
            "(9999, 124)\n",
            "(59999, 125)\n",
            "(9999, 125)\n",
            "(59999, 126)\n",
            "(9999, 126)\n",
            "(59999, 127)\n",
            "(9999, 127)\n",
            "(59999, 128)\n",
            "(9999, 128)\n",
            "(59999, 129)\n",
            "(9999, 129)\n",
            "(59999, 130)\n",
            "(9999, 130)\n",
            "(59999, 131)\n",
            "(9999, 131)\n",
            "(59999, 132)\n",
            "(9999, 132)\n",
            "(59999, 133)\n",
            "(9999, 133)\n",
            "(59999, 134)\n",
            "(9999, 134)\n",
            "(59999, 135)\n",
            "(9999, 135)\n",
            "(59999, 136)\n",
            "(9999, 136)\n",
            "(59999, 137)\n",
            "(9999, 137)\n",
            "(59999, 138)\n",
            "(9999, 138)\n",
            "(59999, 139)\n",
            "(9999, 139)\n",
            "(59999, 140)\n",
            "(9999, 140)\n",
            "(59999, 141)\n",
            "(9999, 141)\n",
            "(59999, 142)\n",
            "(9999, 142)\n",
            "(59999, 143)\n",
            "(9999, 143)\n",
            "(59999, 144)\n",
            "(9999, 144)\n",
            "(59999, 145)\n",
            "(9999, 145)\n",
            "(59999, 146)\n",
            "(9999, 146)\n",
            "(59999, 147)\n",
            "(9999, 147)\n",
            "(59999, 148)\n",
            "(9999, 148)\n",
            "(59999, 149)\n",
            "(9999, 149)\n",
            "(59999, 150)\n",
            "(9999, 150)\n",
            "(59999, 151)\n",
            "(9999, 151)\n",
            "(59999, 152)\n",
            "(9999, 152)\n",
            "(59999, 153)\n",
            "(9999, 153)\n",
            "(59999, 154)\n",
            "(9999, 154)\n",
            "(59999, 155)\n",
            "(9999, 155)\n",
            "(59999, 156)\n",
            "(9999, 156)\n",
            "(59999, 157)\n",
            "(9999, 157)\n",
            "(59999, 158)\n",
            "(9999, 158)\n",
            "(59999, 159)\n",
            "(9999, 159)\n",
            "(59999, 160)\n",
            "(9999, 160)\n",
            "(59999, 161)\n",
            "(9999, 161)\n",
            "(59999, 162)\n",
            "(9999, 162)\n",
            "(59999, 163)\n",
            "(9999, 163)\n",
            "(59999, 164)\n",
            "(9999, 164)\n",
            "(59999, 165)\n",
            "(9999, 165)\n",
            "(59999, 166)\n",
            "(9999, 166)\n",
            "(59999, 167)\n",
            "(9999, 167)\n",
            "(59999, 168)\n",
            "(9999, 168)\n",
            "(59999, 169)\n",
            "(9999, 169)\n",
            "(59999, 170)\n",
            "(9999, 170)\n",
            "(59999, 171)\n",
            "(9999, 171)\n",
            "(59999, 172)\n",
            "(9999, 172)\n",
            "(59999, 173)\n",
            "(9999, 173)\n",
            "(59999, 174)\n",
            "(9999, 174)\n",
            "(59999, 175)\n",
            "(9999, 175)\n",
            "(59999, 176)\n",
            "(9999, 176)\n",
            "(59999, 177)\n",
            "(9999, 177)\n",
            "(59999, 178)\n",
            "(9999, 178)\n",
            "(59999, 179)\n",
            "(9999, 179)\n",
            "(59999, 180)\n",
            "(9999, 180)\n",
            "(59999, 181)\n",
            "(9999, 181)\n",
            "(59999, 182)\n",
            "(9999, 182)\n",
            "(59999, 183)\n",
            "(9999, 183)\n",
            "(59999, 184)\n",
            "(9999, 184)\n",
            "(59999, 185)\n",
            "(9999, 185)\n",
            "(59999, 186)\n",
            "(9999, 186)\n",
            "(59999, 187)\n",
            "(9999, 187)\n",
            "(59999, 188)\n",
            "(9999, 188)\n",
            "(59999, 189)\n",
            "(9999, 189)\n",
            "(59999, 190)\n",
            "(9999, 190)\n",
            "(59999, 191)\n",
            "(9999, 191)\n",
            "(59999, 192)\n",
            "(9999, 192)\n",
            "(59999, 193)\n",
            "(9999, 193)\n",
            "(59999, 194)\n",
            "(9999, 194)\n",
            "(59999, 195)\n",
            "(9999, 195)\n",
            "(59999, 196)\n",
            "(9999, 196)\n",
            "(59999, 197)\n",
            "(9999, 197)\n",
            "(59999, 198)\n",
            "(9999, 198)\n",
            "(59999, 199)\n",
            "(9999, 199)\n",
            "(59999, 200)\n",
            "(9999, 200)\n",
            "(59999, 201)\n",
            "(9999, 201)\n",
            "(59999, 202)\n",
            "(9999, 202)\n",
            "(59999, 203)\n",
            "(9999, 203)\n",
            "(59999, 204)\n",
            "(9999, 204)\n",
            "(59999, 205)\n",
            "(9999, 205)\n",
            "(59999, 206)\n",
            "(9999, 206)\n",
            "(59999, 207)\n",
            "(9999, 207)\n",
            "(59999, 208)\n",
            "(9999, 208)\n",
            "(59999, 209)\n",
            "(9999, 209)\n",
            "(59999, 210)\n",
            "(9999, 210)\n",
            "(59999, 211)\n",
            "(9999, 211)\n",
            "(59999, 212)\n",
            "(9999, 212)\n",
            "(59999, 213)\n",
            "(9999, 213)\n",
            "(59999, 214)\n",
            "(9999, 214)\n",
            "(59999, 215)\n",
            "(9999, 215)\n",
            "(59999, 216)\n",
            "(9999, 216)\n",
            "(59999, 217)\n",
            "(9999, 217)\n",
            "(59999, 218)\n",
            "(9999, 218)\n",
            "(59999, 219)\n",
            "(9999, 219)\n",
            "(59999, 220)\n",
            "(9999, 220)\n",
            "(59999, 221)\n",
            "(9999, 221)\n",
            "(59999, 222)\n",
            "(9999, 222)\n",
            "(59999, 223)\n",
            "(9999, 223)\n",
            "(59999, 224)\n",
            "(9999, 224)\n",
            "(59999, 225)\n",
            "(9999, 225)\n",
            "(59999, 226)\n",
            "(9999, 226)\n",
            "(59999, 227)\n",
            "(9999, 227)\n",
            "(59999, 228)\n",
            "(9999, 228)\n",
            "(59999, 229)\n",
            "(9999, 229)\n",
            "(59999, 230)\n",
            "(9999, 230)\n",
            "(59999, 231)\n",
            "(9999, 231)\n",
            "(59999, 232)\n",
            "(9999, 232)\n",
            "(59999, 233)\n",
            "(9999, 233)\n",
            "(59999, 234)\n",
            "(9999, 234)\n",
            "(59999, 235)\n",
            "(9999, 235)\n",
            "(59999, 236)\n",
            "(9999, 236)\n",
            "(59999, 237)\n",
            "(9999, 237)\n",
            "(59999, 238)\n",
            "(9999, 238)\n",
            "(59999, 239)\n",
            "(9999, 239)\n",
            "(59999, 240)\n",
            "(9999, 240)\n",
            "(59999, 241)\n",
            "(9999, 241)\n",
            "(59999, 242)\n",
            "(9999, 242)\n",
            "(59999, 243)\n",
            "(9999, 243)\n",
            "(59999, 244)\n",
            "(9999, 244)\n",
            "(59999, 245)\n",
            "(9999, 245)\n",
            "(59999, 246)\n",
            "(9999, 246)\n",
            "(59999, 247)\n",
            "(9999, 247)\n",
            "(59999, 248)\n",
            "(9999, 248)\n",
            "(59999, 249)\n",
            "(9999, 249)\n",
            "(59999, 250)\n",
            "(9999, 250)\n",
            "(59999, 251)\n",
            "(9999, 251)\n",
            "(59999, 252)\n",
            "(9999, 252)\n",
            "(59999, 253)\n",
            "(9999, 253)\n",
            "(59999, 254)\n",
            "(9999, 254)\n",
            "(59999, 255)\n",
            "(9999, 255)\n",
            "(59999, 256)\n",
            "(9999, 256)\n",
            "(59999, 257)\n",
            "(9999, 257)\n",
            "(59999, 258)\n",
            "(9999, 258)\n",
            "(59999, 259)\n",
            "(9999, 259)\n",
            "(59999, 260)\n",
            "(9999, 260)\n",
            "(59999, 261)\n",
            "(9999, 261)\n",
            "(59999, 262)\n",
            "(9999, 262)\n",
            "(59999, 263)\n",
            "(9999, 263)\n",
            "(59999, 264)\n",
            "(9999, 264)\n",
            "(59999, 265)\n",
            "(9999, 265)\n",
            "(59999, 266)\n",
            "(9999, 266)\n",
            "(59999, 267)\n",
            "(9999, 267)\n",
            "(59999, 268)\n",
            "(9999, 268)\n",
            "(59999, 269)\n",
            "(9999, 269)\n",
            "(59999, 270)\n",
            "(9999, 270)\n",
            "(59999, 271)\n",
            "(9999, 271)\n",
            "(59999, 272)\n",
            "(9999, 272)\n",
            "(59999, 273)\n",
            "(9999, 273)\n",
            "(59999, 274)\n",
            "(9999, 274)\n",
            "(59999, 275)\n",
            "(9999, 275)\n",
            "(59999, 276)\n",
            "(9999, 276)\n",
            "(59999, 277)\n",
            "(9999, 277)\n",
            "(59999, 278)\n",
            "(9999, 278)\n",
            "(59999, 279)\n",
            "(9999, 279)\n",
            "(59999, 280)\n",
            "(9999, 280)\n",
            "(59999, 281)\n",
            "(9999, 281)\n",
            "(59999, 282)\n",
            "(9999, 282)\n",
            "(59999, 283)\n",
            "(9999, 283)\n",
            "(59999, 284)\n",
            "(9999, 284)\n",
            "(59999, 285)\n",
            "(9999, 285)\n",
            "(59999, 286)\n",
            "(9999, 286)\n",
            "(59999, 287)\n",
            "(9999, 287)\n",
            "(59999, 288)\n",
            "(9999, 288)\n",
            "(59999, 289)\n",
            "(9999, 289)\n",
            "(59999, 290)\n",
            "(9999, 290)\n",
            "(59999, 291)\n",
            "(9999, 291)\n",
            "(59999, 292)\n",
            "(9999, 292)\n",
            "(59999, 293)\n",
            "(9999, 293)\n",
            "(59999, 294)\n",
            "(9999, 294)\n",
            "(59999, 295)\n",
            "(9999, 295)\n",
            "(59999, 296)\n",
            "(9999, 296)\n",
            "(59999, 297)\n",
            "(9999, 297)\n",
            "(59999, 298)\n",
            "(9999, 298)\n",
            "(59999, 299)\n",
            "(9999, 299)\n",
            "(59999, 300)\n",
            "(9999, 300)\n",
            "(59999, 301)\n",
            "(9999, 301)\n",
            "(59999, 302)\n",
            "(9999, 302)\n",
            "(59999, 303)\n",
            "(9999, 303)\n",
            "(59999, 304)\n",
            "(9999, 304)\n",
            "(59999, 305)\n",
            "(9999, 305)\n",
            "(59999, 306)\n",
            "(9999, 306)\n",
            "(59999, 307)\n",
            "(9999, 307)\n",
            "(59999, 308)\n",
            "(9999, 308)\n",
            "(59999, 309)\n",
            "(9999, 309)\n",
            "(59999, 310)\n",
            "(9999, 310)\n",
            "(59999, 311)\n",
            "(9999, 311)\n",
            "(59999, 312)\n",
            "(9999, 312)\n",
            "(59999, 313)\n",
            "(9999, 313)\n",
            "(59999, 314)\n",
            "(9999, 314)\n",
            "(59999, 315)\n",
            "(9999, 315)\n",
            "(59999, 316)\n",
            "(9999, 316)\n",
            "(59999, 317)\n",
            "(9999, 317)\n",
            "(59999, 318)\n",
            "(9999, 318)\n",
            "(59999, 319)\n",
            "(9999, 319)\n",
            "(59999, 320)\n",
            "(9999, 320)\n",
            "(59999, 321)\n",
            "(9999, 321)\n",
            "(59999, 322)\n",
            "(9999, 322)\n",
            "(59999, 323)\n",
            "(9999, 323)\n",
            "(59999, 324)\n",
            "(9999, 324)\n",
            "(59999, 325)\n",
            "(9999, 325)\n",
            "(59999, 326)\n",
            "(9999, 326)\n",
            "(59999, 327)\n",
            "(9999, 327)\n",
            "(59999, 328)\n",
            "(9999, 328)\n",
            "(59999, 329)\n",
            "(9999, 329)\n",
            "(59999, 330)\n",
            "(9999, 330)\n",
            "(59999, 331)\n",
            "(9999, 331)\n",
            "(59999, 332)\n",
            "(9999, 332)\n",
            "(59999, 333)\n",
            "(9999, 333)\n",
            "(59999, 334)\n",
            "(9999, 334)\n",
            "(59999, 335)\n",
            "(9999, 335)\n",
            "(59999, 336)\n",
            "(9999, 336)\n",
            "(59999, 337)\n",
            "(9999, 337)\n",
            "(59999, 338)\n",
            "(9999, 338)\n",
            "(59999, 339)\n",
            "(9999, 339)\n",
            "(59999, 340)\n",
            "(9999, 340)\n",
            "(59999, 341)\n",
            "(9999, 341)\n",
            "(59999, 342)\n",
            "(9999, 342)\n",
            "(59999, 343)\n",
            "(9999, 343)\n",
            "(59999, 344)\n",
            "(9999, 344)\n",
            "(59999, 345)\n",
            "(9999, 345)\n",
            "(59999, 346)\n",
            "(9999, 346)\n",
            "(59999, 347)\n",
            "(9999, 347)\n",
            "(59999, 348)\n",
            "(9999, 348)\n",
            "(59999, 349)\n",
            "(9999, 349)\n",
            "(59999, 350)\n",
            "(9999, 350)\n",
            "(59999, 351)\n",
            "(9999, 351)\n",
            "(59999, 352)\n",
            "(9999, 352)\n",
            "(59999, 353)\n",
            "(9999, 353)\n",
            "(59999, 354)\n",
            "(9999, 354)\n",
            "(59999, 355)\n",
            "(9999, 355)\n",
            "(59999, 356)\n",
            "(9999, 356)\n",
            "(59999, 357)\n",
            "(9999, 357)\n",
            "(59999, 358)\n",
            "(9999, 358)\n",
            "(59999, 359)\n",
            "(9999, 359)\n",
            "(59999, 360)\n",
            "(9999, 360)\n",
            "(59999, 361)\n",
            "(9999, 361)\n",
            "(59999, 362)\n",
            "(9999, 362)\n",
            "(59999, 363)\n",
            "(9999, 363)\n",
            "(59999, 364)\n",
            "(9999, 364)\n",
            "(59999, 365)\n",
            "(9999, 365)\n",
            "(59999, 366)\n",
            "(9999, 366)\n",
            "(59999, 367)\n",
            "(9999, 367)\n",
            "(59999, 368)\n",
            "(9999, 368)\n",
            "(59999, 369)\n",
            "(9999, 369)\n",
            "(59999, 370)\n",
            "(9999, 370)\n",
            "(59999, 371)\n",
            "(9999, 371)\n",
            "(59999, 372)\n",
            "(9999, 372)\n",
            "(59999, 373)\n",
            "(9999, 373)\n",
            "(59999, 374)\n",
            "(9999, 374)\n",
            "(59999, 375)\n",
            "(9999, 375)\n",
            "(59999, 376)\n",
            "(9999, 376)\n",
            "(59999, 377)\n",
            "(9999, 377)\n",
            "(59999, 378)\n",
            "(9999, 378)\n",
            "(59999, 379)\n",
            "(9999, 379)\n",
            "(59999, 380)\n",
            "(9999, 380)\n",
            "(59999, 381)\n",
            "(9999, 381)\n",
            "(59999, 382)\n",
            "(9999, 382)\n",
            "(59999, 383)\n",
            "(9999, 383)\n",
            "(59999, 384)\n",
            "(9999, 384)\n",
            "(59999, 385)\n",
            "(9999, 385)\n",
            "(59999, 386)\n",
            "(9999, 386)\n",
            "(59999, 387)\n",
            "(9999, 387)\n",
            "(59999, 388)\n",
            "(9999, 388)\n",
            "(59999, 389)\n",
            "(9999, 389)\n",
            "(59999, 390)\n",
            "(9999, 390)\n",
            "(59999, 391)\n",
            "(9999, 391)\n",
            "(59999, 392)\n",
            "(9999, 392)\n",
            "(59999, 393)\n",
            "(9999, 393)\n",
            "(59999, 394)\n",
            "(9999, 394)\n",
            "(59999, 395)\n",
            "(9999, 395)\n",
            "(59999, 396)\n",
            "(9999, 396)\n",
            "(59999, 397)\n",
            "(9999, 397)\n",
            "(59999, 398)\n",
            "(9999, 398)\n",
            "(59999, 399)\n",
            "(9999, 399)\n",
            "(59999, 400)\n",
            "(9999, 400)\n",
            "(59999, 401)\n",
            "(9999, 401)\n",
            "(59999, 402)\n",
            "(9999, 402)\n",
            "(59999, 403)\n",
            "(9999, 403)\n",
            "(59999, 404)\n",
            "(9999, 404)\n",
            "(59999, 405)\n",
            "(9999, 405)\n",
            "(59999, 406)\n",
            "(9999, 406)\n",
            "(59999, 407)\n",
            "(9999, 407)\n",
            "(59999, 408)\n",
            "(9999, 408)\n",
            "(59999, 409)\n",
            "(9999, 409)\n",
            "(59999, 410)\n",
            "(9999, 410)\n",
            "(59999, 411)\n",
            "(9999, 411)\n",
            "(59999, 412)\n",
            "(9999, 412)\n",
            "(59999, 413)\n",
            "(9999, 413)\n",
            "(59999, 414)\n",
            "(9999, 414)\n",
            "(59999, 415)\n",
            "(9999, 415)\n",
            "(59999, 416)\n",
            "(9999, 416)\n",
            "(59999, 417)\n",
            "(9999, 417)\n",
            "(59999, 418)\n",
            "(9999, 418)\n",
            "(59999, 419)\n",
            "(9999, 419)\n",
            "(59999, 420)\n",
            "(9999, 420)\n",
            "(59999, 421)\n",
            "(9999, 421)\n",
            "(59999, 422)\n",
            "(9999, 422)\n",
            "(59999, 423)\n",
            "(9999, 423)\n",
            "(59999, 424)\n",
            "(9999, 424)\n",
            "(59999, 425)\n",
            "(9999, 425)\n",
            "(59999, 426)\n",
            "(9999, 426)\n",
            "(59999, 427)\n",
            "(9999, 427)\n",
            "(59999, 428)\n",
            "(9999, 428)\n",
            "(59999, 429)\n",
            "(9999, 429)\n",
            "(59999, 430)\n",
            "(9999, 430)\n",
            "(59999, 431)\n",
            "(9999, 431)\n",
            "(59999, 432)\n",
            "(9999, 432)\n",
            "(59999, 433)\n",
            "(9999, 433)\n",
            "(59999, 434)\n",
            "(9999, 434)\n",
            "(59999, 435)\n",
            "(9999, 435)\n",
            "(59999, 436)\n",
            "(9999, 436)\n",
            "(59999, 437)\n",
            "(9999, 437)\n",
            "(59999, 438)\n",
            "(9999, 438)\n",
            "(59999, 439)\n",
            "(9999, 439)\n",
            "(59999, 440)\n",
            "(9999, 440)\n",
            "(59999, 441)\n",
            "(9999, 441)\n",
            "(59999, 442)\n",
            "(9999, 442)\n",
            "(59999, 443)\n",
            "(9999, 443)\n",
            "(59999, 444)\n",
            "(9999, 444)\n",
            "(59999, 445)\n",
            "(9999, 445)\n",
            "(59999, 446)\n",
            "(9999, 446)\n",
            "(59999, 447)\n",
            "(9999, 447)\n",
            "(59999, 448)\n",
            "(9999, 448)\n",
            "(59999, 449)\n",
            "(9999, 449)\n",
            "(59999, 450)\n",
            "(9999, 450)\n",
            "(59999, 451)\n",
            "(9999, 451)\n",
            "(59999, 452)\n",
            "(9999, 452)\n",
            "(59999, 453)\n",
            "(9999, 453)\n",
            "(59999, 454)\n",
            "(9999, 454)\n",
            "(59999, 455)\n",
            "(9999, 455)\n",
            "(59999, 456)\n",
            "(9999, 456)\n",
            "(59999, 457)\n",
            "(9999, 457)\n",
            "(59999, 458)\n",
            "(9999, 458)\n",
            "(59999, 459)\n",
            "(9999, 459)\n",
            "(59999, 460)\n",
            "(9999, 460)\n",
            "(59999, 461)\n",
            "(9999, 461)\n",
            "(59999, 462)\n",
            "(9999, 462)\n",
            "(59999, 463)\n",
            "(9999, 463)\n",
            "(59999, 464)\n",
            "(9999, 464)\n",
            "(59999, 465)\n",
            "(9999, 465)\n",
            "(59999, 466)\n",
            "(9999, 466)\n",
            "(59999, 467)\n",
            "(9999, 467)\n",
            "(59999, 468)\n",
            "(9999, 468)\n",
            "(59999, 469)\n",
            "(9999, 469)\n",
            "(59999, 470)\n",
            "(9999, 470)\n",
            "(59999, 471)\n",
            "(9999, 471)\n",
            "(59999, 472)\n",
            "(9999, 472)\n",
            "(59999, 473)\n",
            "(9999, 473)\n",
            "(59999, 474)\n",
            "(9999, 474)\n",
            "(59999, 475)\n",
            "(9999, 475)\n",
            "(59999, 476)\n",
            "(9999, 476)\n",
            "(59999, 477)\n",
            "(9999, 477)\n",
            "(59999, 478)\n",
            "(9999, 478)\n",
            "(59999, 479)\n",
            "(9999, 479)\n",
            "(59999, 480)\n",
            "(9999, 480)\n",
            "(59999, 481)\n",
            "(9999, 481)\n",
            "(59999, 482)\n",
            "(9999, 482)\n",
            "(59999, 483)\n",
            "(9999, 483)\n",
            "(59999, 484)\n",
            "(9999, 484)\n",
            "(59999, 485)\n",
            "(9999, 485)\n",
            "(59999, 486)\n",
            "(9999, 486)\n",
            "(59999, 487)\n",
            "(9999, 487)\n",
            "(59999, 488)\n",
            "(9999, 488)\n",
            "(59999, 489)\n",
            "(9999, 489)\n",
            "(59999, 490)\n",
            "(9999, 490)\n",
            "(59999, 491)\n",
            "(9999, 491)\n",
            "(59999, 492)\n",
            "(9999, 492)\n",
            "(59999, 493)\n",
            "(9999, 493)\n",
            "(59999, 494)\n",
            "(9999, 494)\n",
            "(59999, 495)\n",
            "(9999, 495)\n",
            "(59999, 496)\n",
            "(9999, 496)\n",
            "(59999, 497)\n",
            "(9999, 497)\n",
            "(59999, 498)\n",
            "(9999, 498)\n",
            "(59999, 499)\n",
            "(9999, 499)\n",
            "(59999, 500)\n",
            "(9999, 500)\n",
            "(59999, 501)\n",
            "(9999, 501)\n",
            "(59999, 502)\n",
            "(9999, 502)\n",
            "(59999, 503)\n",
            "(9999, 503)\n",
            "(59999, 504)\n",
            "(9999, 504)\n",
            "(59999, 505)\n",
            "(9999, 505)\n",
            "(59999, 506)\n",
            "(9999, 506)\n",
            "(59999, 507)\n",
            "(9999, 507)\n",
            "(59999, 508)\n",
            "(9999, 508)\n",
            "(59999, 509)\n",
            "(9999, 509)\n",
            "(59999, 510)\n",
            "(9999, 510)\n",
            "(59999, 511)\n",
            "(9999, 511)\n",
            "(59999, 512)\n",
            "(9999, 512)\n",
            "(59999, 513)\n",
            "(9999, 513)\n",
            "(59999, 514)\n",
            "(9999, 514)\n",
            "(59999, 515)\n",
            "(9999, 515)\n",
            "(59999, 516)\n",
            "(9999, 516)\n",
            "(59999, 517)\n",
            "(9999, 517)\n",
            "(59999, 518)\n",
            "(9999, 518)\n",
            "(59999, 519)\n",
            "(9999, 519)\n",
            "(59999, 520)\n",
            "(9999, 520)\n",
            "(59999, 521)\n",
            "(9999, 521)\n",
            "(59999, 522)\n",
            "(9999, 522)\n",
            "(59999, 523)\n",
            "(9999, 523)\n",
            "(59999, 524)\n",
            "(9999, 524)\n",
            "(59999, 525)\n",
            "(9999, 525)\n",
            "(59999, 526)\n",
            "(9999, 526)\n",
            "(59999, 527)\n",
            "(9999, 527)\n",
            "(59999, 528)\n",
            "(9999, 528)\n",
            "(59999, 529)\n",
            "(9999, 529)\n",
            "(59999, 530)\n",
            "(9999, 530)\n",
            "(59999, 531)\n",
            "(9999, 531)\n",
            "(59999, 532)\n",
            "(9999, 532)\n",
            "(59999, 533)\n",
            "(9999, 533)\n",
            "(59999, 534)\n",
            "(9999, 534)\n",
            "(59999, 535)\n",
            "(9999, 535)\n",
            "(59999, 536)\n",
            "(9999, 536)\n",
            "(59999, 537)\n",
            "(9999, 537)\n",
            "(59999, 538)\n",
            "(9999, 538)\n",
            "(59999, 539)\n",
            "(9999, 539)\n",
            "(59999, 540)\n",
            "(9999, 540)\n",
            "(59999, 541)\n",
            "(9999, 541)\n",
            "(59999, 542)\n",
            "(9999, 542)\n",
            "(59999, 543)\n",
            "(9999, 543)\n",
            "(59999, 544)\n",
            "(9999, 544)\n",
            "(59999, 545)\n",
            "(9999, 545)\n",
            "(59999, 546)\n",
            "(9999, 546)\n",
            "(59999, 547)\n",
            "(9999, 547)\n",
            "(59999, 548)\n",
            "(9999, 548)\n",
            "(59999, 549)\n",
            "(9999, 549)\n",
            "(59999, 550)\n",
            "(9999, 550)\n",
            "(59999, 551)\n",
            "(9999, 551)\n",
            "(59999, 552)\n",
            "(9999, 552)\n",
            "(59999, 553)\n",
            "(9999, 553)\n",
            "(59999, 554)\n",
            "(9999, 554)\n",
            "(59999, 555)\n",
            "(9999, 555)\n",
            "(59999, 556)\n",
            "(9999, 556)\n",
            "(59999, 557)\n",
            "(9999, 557)\n",
            "(59999, 558)\n",
            "(9999, 558)\n",
            "(59999, 559)\n",
            "(9999, 559)\n",
            "(59999, 560)\n",
            "(9999, 560)\n",
            "(59999, 561)\n",
            "(9999, 561)\n",
            "(59999, 562)\n",
            "(9999, 562)\n",
            "(59999, 563)\n",
            "(9999, 563)\n",
            "(59999, 564)\n",
            "(9999, 564)\n",
            "(59999, 565)\n",
            "(9999, 565)\n",
            "(59999, 566)\n",
            "(9999, 566)\n",
            "(59999, 567)\n",
            "(9999, 567)\n",
            "(59999, 568)\n",
            "(9999, 568)\n",
            "(59999, 569)\n",
            "(9999, 569)\n",
            "(59999, 570)\n",
            "(9999, 570)\n",
            "(59999, 571)\n",
            "(9999, 571)\n",
            "(59999, 572)\n",
            "(9999, 572)\n",
            "(59999, 573)\n",
            "(9999, 573)\n",
            "(59999, 574)\n",
            "(9999, 574)\n",
            "(59999, 575)\n",
            "(9999, 575)\n",
            "(59999, 576)\n",
            "(9999, 576)\n",
            "(59999, 577)\n",
            "(9999, 577)\n",
            "(59999, 578)\n",
            "(9999, 578)\n",
            "(59999, 579)\n",
            "(9999, 579)\n",
            "(59999, 580)\n",
            "(9999, 580)\n",
            "(59999, 581)\n",
            "(9999, 581)\n",
            "(59999, 582)\n",
            "(9999, 582)\n",
            "(59999, 583)\n",
            "(9999, 583)\n",
            "(59999, 584)\n",
            "(9999, 584)\n",
            "(59999, 585)\n",
            "(9999, 585)\n",
            "(59999, 586)\n",
            "(9999, 586)\n",
            "(59999, 587)\n",
            "(9999, 587)\n",
            "(59999, 588)\n",
            "(9999, 588)\n",
            "(59999, 589)\n",
            "(9999, 589)\n",
            "(59999, 590)\n",
            "(9999, 590)\n",
            "(59999, 591)\n",
            "(9999, 591)\n",
            "(59999, 592)\n",
            "(9999, 592)\n",
            "(59999, 593)\n",
            "(9999, 593)\n",
            "(59999, 594)\n",
            "(9999, 594)\n",
            "(59999, 595)\n",
            "(9999, 595)\n",
            "(59999, 596)\n",
            "(9999, 596)\n",
            "(59999, 597)\n",
            "(9999, 597)\n",
            "(59999, 598)\n",
            "(9999, 598)\n",
            "(59999, 599)\n",
            "(9999, 599)\n",
            "(59999, 600)\n",
            "(9999, 600)\n",
            "(59999, 601)\n",
            "(9999, 601)\n",
            "(59999, 602)\n",
            "(9999, 602)\n",
            "(59999, 603)\n",
            "(9999, 603)\n",
            "(59999, 604)\n",
            "(9999, 604)\n",
            "(59999, 605)\n",
            "(9999, 605)\n",
            "(59999, 606)\n",
            "(9999, 606)\n",
            "(59999, 607)\n",
            "(9999, 607)\n",
            "(59999, 608)\n",
            "(9999, 608)\n",
            "(59999, 609)\n",
            "(9999, 609)\n",
            "(59999, 610)\n",
            "(9999, 610)\n",
            "(59999, 611)\n",
            "(9999, 611)\n",
            "(59999, 612)\n",
            "(9999, 612)\n",
            "(59999, 613)\n",
            "(9999, 613)\n",
            "(59999, 614)\n",
            "(9999, 614)\n",
            "(59999, 615)\n",
            "(9999, 615)\n",
            "(59999, 616)\n",
            "(9999, 616)\n",
            "(59999, 617)\n",
            "(9999, 617)\n",
            "(59999, 618)\n",
            "(9999, 618)\n",
            "(59999, 619)\n",
            "(9999, 619)\n",
            "(59999, 620)\n",
            "(9999, 620)\n",
            "(59999, 621)\n",
            "(9999, 621)\n",
            "(59999, 622)\n",
            "(9999, 622)\n",
            "(59999, 623)\n",
            "(9999, 623)\n",
            "(59999, 624)\n",
            "(9999, 624)\n",
            "(59999, 625)\n",
            "(9999, 625)\n",
            "(59999, 626)\n",
            "(9999, 626)\n",
            "(59999, 627)\n",
            "(9999, 627)\n",
            "(59999, 628)\n",
            "(9999, 628)\n",
            "(59999, 629)\n",
            "(9999, 629)\n",
            "(59999, 630)\n",
            "(9999, 630)\n",
            "(59999, 631)\n",
            "(9999, 631)\n",
            "(59999, 632)\n",
            "(9999, 632)\n",
            "(59999, 633)\n",
            "(9999, 633)\n",
            "(59999, 634)\n",
            "(9999, 634)\n",
            "(59999, 635)\n",
            "(9999, 635)\n",
            "(59999, 636)\n",
            "(9999, 636)\n",
            "(59999, 637)\n",
            "(9999, 637)\n",
            "(59999, 638)\n",
            "(9999, 638)\n",
            "(59999, 639)\n",
            "(9999, 639)\n",
            "(59999, 640)\n",
            "(9999, 640)\n",
            "(59999, 641)\n",
            "(9999, 641)\n",
            "(59999, 642)\n",
            "(9999, 642)\n",
            "(59999, 643)\n",
            "(9999, 643)\n",
            "(59999, 644)\n",
            "(9999, 644)\n",
            "(59999, 645)\n",
            "(9999, 645)\n",
            "(59999, 646)\n",
            "(9999, 646)\n",
            "(59999, 647)\n",
            "(9999, 647)\n",
            "(59999, 648)\n",
            "(9999, 648)\n",
            "(59999, 649)\n",
            "(9999, 649)\n",
            "(59999, 650)\n",
            "(9999, 650)\n",
            "(59999, 651)\n",
            "(9999, 651)\n",
            "(59999, 652)\n",
            "(9999, 652)\n",
            "(59999, 653)\n",
            "(9999, 653)\n",
            "(59999, 654)\n",
            "(9999, 654)\n",
            "(59999, 655)\n",
            "(9999, 655)\n",
            "(59999, 656)\n",
            "(9999, 656)\n",
            "(59999, 657)\n",
            "(9999, 657)\n",
            "(59999, 658)\n",
            "(9999, 658)\n",
            "(59999, 659)\n",
            "(9999, 659)\n",
            "(59999, 660)\n",
            "(9999, 660)\n",
            "(59999, 661)\n",
            "(9999, 661)\n",
            "(59999, 662)\n",
            "(9999, 662)\n",
            "(59999, 663)\n",
            "(9999, 663)\n",
            "(59999, 664)\n",
            "(9999, 664)\n",
            "(59999, 665)\n",
            "(9999, 665)\n",
            "(59999, 666)\n",
            "(9999, 666)\n",
            "(59999, 667)\n",
            "(9999, 667)\n",
            "(59999, 668)\n",
            "(9999, 668)\n",
            "(59999, 669)\n",
            "(9999, 669)\n",
            "(59999, 670)\n",
            "(9999, 670)\n",
            "(59999, 671)\n",
            "(9999, 671)\n",
            "(59999, 672)\n",
            "(9999, 672)\n",
            "(59999, 673)\n",
            "(9999, 673)\n",
            "(59999, 674)\n",
            "(9999, 674)\n",
            "(59999, 675)\n",
            "(9999, 675)\n",
            "(59999, 676)\n",
            "(9999, 676)\n",
            "(59999, 677)\n",
            "(9999, 677)\n",
            "(59999, 678)\n",
            "(9999, 678)\n",
            "(59999, 679)\n",
            "(9999, 679)\n",
            "(59999, 680)\n",
            "(9999, 680)\n",
            "(59999, 681)\n",
            "(9999, 681)\n",
            "(59999, 682)\n",
            "(9999, 682)\n",
            "(59999, 683)\n",
            "(9999, 683)\n",
            "(59999, 684)\n",
            "(9999, 684)\n",
            "(59999, 685)\n",
            "(9999, 685)\n",
            "(59999, 686)\n",
            "(9999, 686)\n",
            "(59999, 687)\n",
            "(9999, 687)\n",
            "(59999, 688)\n",
            "(9999, 688)\n",
            "(59999, 689)\n",
            "(9999, 689)\n",
            "(59999, 690)\n",
            "(9999, 690)\n",
            "(59999, 691)\n",
            "(9999, 691)\n",
            "(59999, 692)\n",
            "(9999, 692)\n",
            "(59999, 693)\n",
            "(9999, 693)\n",
            "(59999, 694)\n",
            "(9999, 694)\n",
            "(59999, 695)\n",
            "(9999, 695)\n",
            "(59999, 696)\n",
            "(9999, 696)\n",
            "(59999, 697)\n",
            "(9999, 697)\n",
            "(59999, 698)\n",
            "(9999, 698)\n",
            "(59999, 699)\n",
            "(9999, 699)\n",
            "(59999, 700)\n",
            "(9999, 700)\n",
            "(59999, 701)\n",
            "(9999, 701)\n",
            "(59999, 702)\n",
            "(9999, 702)\n",
            "(59999, 703)\n",
            "(9999, 703)\n",
            "(59999, 704)\n",
            "(9999, 704)\n",
            "(59999, 705)\n",
            "(9999, 705)\n",
            "(59999, 706)\n",
            "(9999, 706)\n",
            "(59999, 707)\n",
            "(9999, 707)\n",
            "(59999, 708)\n",
            "(9999, 708)\n",
            "(59999, 709)\n",
            "(9999, 709)\n",
            "(59999, 710)\n",
            "(9999, 710)\n",
            "(59999, 711)\n",
            "(9999, 711)\n",
            "(59999, 712)\n",
            "(9999, 712)\n",
            "(59999, 713)\n",
            "(9999, 713)\n",
            "(59999, 714)\n",
            "(9999, 714)\n",
            "(59999, 715)\n",
            "(9999, 715)\n",
            "(59999, 716)\n",
            "(9999, 716)\n",
            "(59999, 717)\n",
            "(9999, 717)\n",
            "(59999, 718)\n",
            "(9999, 718)\n",
            "(59999, 719)\n",
            "(9999, 719)\n",
            "(59999, 720)\n",
            "(9999, 720)\n",
            "(59999, 721)\n",
            "(9999, 721)\n",
            "(59999, 722)\n",
            "(9999, 722)\n",
            "(59999, 723)\n",
            "(9999, 723)\n",
            "(59999, 724)\n",
            "(9999, 724)\n",
            "(59999, 725)\n",
            "(9999, 725)\n",
            "(59999, 726)\n",
            "(9999, 726)\n",
            "(59999, 727)\n",
            "(9999, 727)\n",
            "(59999, 728)\n",
            "(9999, 728)\n",
            "(59999, 729)\n",
            "(9999, 729)\n",
            "(59999, 730)\n",
            "(9999, 730)\n",
            "(59999, 731)\n",
            "(9999, 731)\n",
            "(59999, 732)\n",
            "(9999, 732)\n",
            "(59999, 733)\n",
            "(9999, 733)\n",
            "(59999, 734)\n",
            "(9999, 734)\n",
            "(59999, 735)\n",
            "(9999, 735)\n",
            "(59999, 736)\n",
            "(9999, 736)\n",
            "(59999, 737)\n",
            "(9999, 737)\n",
            "(59999, 738)\n",
            "(9999, 738)\n",
            "(59999, 739)\n",
            "(9999, 739)\n",
            "(59999, 740)\n",
            "(9999, 740)\n",
            "(59999, 741)\n",
            "(9999, 741)\n",
            "(59999, 742)\n",
            "(9999, 742)\n",
            "(59999, 743)\n",
            "(9999, 743)\n",
            "(59999, 744)\n",
            "(9999, 744)\n",
            "(59999, 745)\n",
            "(9999, 745)\n",
            "(59999, 746)\n",
            "(9999, 746)\n",
            "(59999, 747)\n",
            "(9999, 747)\n",
            "(59999, 748)\n",
            "(9999, 748)\n",
            "(59999, 749)\n",
            "(9999, 749)\n",
            "(59999, 750)\n",
            "(9999, 750)\n",
            "(59999, 751)\n",
            "(9999, 751)\n",
            "(59999, 752)\n",
            "(9999, 752)\n",
            "(59999, 753)\n",
            "(9999, 753)\n",
            "(59999, 754)\n",
            "(9999, 754)\n",
            "(59999, 755)\n",
            "(9999, 755)\n",
            "(59999, 756)\n",
            "(9999, 756)\n",
            "(59999, 757)\n",
            "(9999, 757)\n",
            "(59999, 758)\n",
            "(9999, 758)\n",
            "(59999, 759)\n",
            "(9999, 759)\n",
            "(59999, 760)\n",
            "(9999, 760)\n",
            "(59999, 761)\n",
            "(9999, 761)\n",
            "(59999, 762)\n",
            "(9999, 762)\n",
            "(59999, 763)\n",
            "(9999, 763)\n",
            "(59999, 764)\n",
            "(9999, 764)\n",
            "(59999, 765)\n",
            "(9999, 765)\n",
            "(59999, 766)\n",
            "(9999, 766)\n",
            "(59999, 767)\n",
            "(9999, 767)\n",
            "(59999, 768)\n",
            "(9999, 768)\n",
            "(59999, 769)\n",
            "(9999, 769)\n",
            "(59999, 770)\n",
            "(9999, 770)\n",
            "(59999, 771)\n",
            "(9999, 771)\n",
            "(59999, 772)\n",
            "(9999, 772)\n",
            "(59999, 773)\n",
            "(9999, 773)\n",
            "(59999, 774)\n",
            "(9999, 774)\n",
            "(59999, 775)\n",
            "(9999, 775)\n",
            "(59999, 776)\n",
            "(9999, 776)\n",
            "(59999, 777)\n",
            "(9999, 777)\n",
            "(59999, 778)\n",
            "(9999, 778)\n",
            "(59999, 779)\n",
            "(9999, 779)\n",
            "(59999, 780)\n",
            "(9999, 780)\n",
            "(59999, 781)\n",
            "(9999, 781)\n",
            "(59999, 782)\n",
            "(9999, 782)\n",
            "(59999, 783)\n",
            "(9999, 783)\n",
            "(59999, 784)\n",
            "(9999, 784)\n"
          ]
        }
      ]
    },
    {
      "cell_type": "code",
      "source": [
        "plt.figure(figsize = (5, 5)) \n",
        "plt.plot([int(i) for i in range(1, n_features+1)], sep_train, color=\"y\", label=\"Trace of separability matrix train data\")\n",
        "plt.plot([int(i) for i in range(1, n_features+1)], sep_test, color=\"b\", label=\"Trace of separability matrix test data\")\n",
        "\n",
        "plt.title(\"Trace of separability matrix\", color = 'green', fontweight = 'bold') \n",
        "plt.xlabel(\"#Features\", color = 'green', fontweight = 'bold') \n",
        "plt.ylabel(\"Trace\", color = 'green', fontweight = 'bold')\n",
        "\n",
        "plt.legend(loc=\"best\")\n",
        "plt.show()"
      ],
      "metadata": {
        "colab": {
          "base_uri": "https://localhost:8080/",
          "height": 350
        },
        "id": "2q6FFZK9CLUi",
        "outputId": "37cee706-d120-493e-e40e-f00dbfcd094f"
      },
      "id": "2q6FFZK9CLUi",
      "execution_count": 137,
      "outputs": [
        {
          "output_type": "display_data",
          "data": {
            "text/plain": [
              "<Figure size 360x360 with 1 Axes>"
            ],
            "image/png": "[encoded data removed]"
          },
          "metadata": {
            "needs_background": "light"
          }
        }
      ]
    },
    {
      "cell_type": "code",
      "source": [
        "LDA_object1 = LDA(10)\n",
        "X_train_lda, scatter_w1, scatter_b1 = LDA_object1.transform(X_train, y_train)\n",
        "\n",
        "LDA_object2 = LDA(10)\n",
        "X_test_lda, scatter_w2, scatter_b2 = LDA_object2.transform(X_test, y_test)"
      ],
      "metadata": {
        "colab": {
          "base_uri": "https://localhost:8080/"
        },
        "id": "V2xft18F5U3Y",
        "outputId": "00849085-5089-47b8-edd8-139d9773567b"
      },
      "id": "V2xft18F5U3Y",
      "execution_count": 6,
      "outputs": [
        {
          "output_type": "stream",
          "name": "stdout",
          "text": [
            "(59999, 10)\n",
            "(9999, 10)\n"
          ]
        }
      ]
    },
    {
      "cell_type": "markdown",
      "source": [
        "### Gaussian Naive Bayes on LDA Data"
      ],
      "metadata": {
        "id": "rirdcFgyBvmH"
      },
      "id": "rirdcFgyBvmH"
    },
    {
      "cell_type": "code",
      "source": [
        "from sklearn.naive_bayes import GaussianNB\n",
        "\n",
        "gnb = GaussianNB()\n",
        "gnb.fit(X_train_lda, y_train)\n",
        "y_pred = gnb.predict(X_test_lda)"
      ],
      "metadata": {
        "id": "7eS7Gguy5Sfx"
      },
      "id": "7eS7Gguy5Sfx",
      "execution_count": 7,
      "outputs": []
    },
    {
      "cell_type": "code",
      "source": [
        "confusion_mtx = confusion_matrix(y_test, y_pred)\n",
        "sns.heatmap(confusion_mtx, square=True, annot=True, fmt='d', cbar=True);"
      ],
      "metadata": {
        "colab": {
          "base_uri": "https://localhost:8080/",
          "height": 265
        },
        "id": "-0fDhAtcAhSt",
        "outputId": "f0fa3f21-9db0-4ab5-cfce-c753d85e8be9"
      },
      "id": "-0fDhAtcAhSt",
      "execution_count": 9,
      "outputs": [
        {
          "output_type": "display_data",
          "data": {
            "text/plain": [
              "<Figure size 432x288 with 2 Axes>"
            ],
            "image/png": "[encoded data removed]"
          },
          "metadata": {
            "needs_background": "light"
          }
        }
      ]
    },
    {
      "cell_type": "code",
      "source": [
        "print(classification_report(y_test, y_pred))"
      ],
      "metadata": {
        "colab": {
          "base_uri": "https://localhost:8080/"
        },
        "id": "yyPqx7IBBQVi",
        "outputId": "e733f914-6050-4f6b-f91b-4c8324fc39ef"
      },
      "id": "yyPqx7IBBQVi",
      "execution_count": 13,
      "outputs": [
        {
          "output_type": "stream",
          "name": "stdout",
          "text": [
            "              precision    recall  f1-score   support\n",
            "\n",
            "           0       0.00      0.00      0.00      1000\n",
            "           1       0.00      0.00      0.00      1000\n",
            "           2       0.00      0.00      0.00      1000\n",
            "           3       0.00      0.00      0.00      1000\n",
            "           4       0.00      0.00      0.00      1000\n",
            "           5       0.84      0.12      0.21      1000\n",
            "           6       0.03      0.13      0.05      1000\n",
            "           7       0.00      0.00      0.00      1000\n",
            "           8       0.08      0.48      0.14      1000\n",
            "           9       0.00      0.00      0.00       999\n",
            "\n",
            "    accuracy                           0.07      9999\n",
            "   macro avg       0.10      0.07      0.04      9999\n",
            "weighted avg       0.10      0.07      0.04      9999\n",
            "\n"
          ]
        }
      ]
    },
    {
      "cell_type": "markdown",
      "source": [
        "### Gaussian Naive Bayes on Pure Data"
      ],
      "metadata": {
        "id": "hrs32QmEB343"
      },
      "id": "hrs32QmEB343"
    },
    {
      "cell_type": "code",
      "source": [
        "gnb1 = GaussianNB()\n",
        "gnb1.fit(X_train, y_train)\n",
        "y_pred1 = gnb1.predict(X_test)"
      ],
      "metadata": {
        "id": "TJobBtYBBiib"
      },
      "id": "TJobBtYBBiib",
      "execution_count": 15,
      "outputs": []
    },
    {
      "cell_type": "code",
      "source": [
        "confusion_mtx = confusion_matrix(y_test, y_pred1)\n",
        "sns.heatmap(confusion_mtx, square=True, annot=True, fmt='d', cbar=True);"
      ],
      "metadata": {
        "colab": {
          "base_uri": "https://localhost:8080/",
          "height": 265
        },
        "id": "Xo-MvxSMCEzP",
        "outputId": "b49093bd-1628-4676-a2c9-a3bb1ae351ec"
      },
      "id": "Xo-MvxSMCEzP",
      "execution_count": 16,
      "outputs": [
        {
          "output_type": "display_data",
          "data": {
            "text/plain": [
              "<Figure size 432x288 with 2 Axes>"
            ],
            "image/png": "[encoded data removed]"
          },
          "metadata": {
            "needs_background": "light"
          }
        }
      ]
    },
    {
      "cell_type": "code",
      "source": [
        "print(classification_report(y_test, y_pred1))"
      ],
      "metadata": {
        "colab": {
          "base_uri": "https://localhost:8080/"
        },
        "id": "uNNVgNgKCMcp",
        "outputId": "b667cf94-74b6-4501-8c75-28af700c2be1"
      },
      "id": "uNNVgNgKCMcp",
      "execution_count": 17,
      "outputs": [
        {
          "output_type": "stream",
          "name": "stdout",
          "text": [
            "              precision    recall  f1-score   support\n",
            "\n",
            "           0       0.81      0.59      0.68      1000\n",
            "           1       0.64      0.94      0.76      1000\n",
            "           2       0.59      0.32      0.42      1000\n",
            "           3       0.44      0.55      0.49      1000\n",
            "           4       0.38      0.78      0.51      1000\n",
            "           5       0.93      0.28      0.43      1000\n",
            "           6       0.32      0.04      0.07      1000\n",
            "           7       0.51      0.99      0.67      1000\n",
            "           8       0.83      0.71      0.77      1000\n",
            "           9       0.91      0.67      0.77       999\n",
            "\n",
            "    accuracy                           0.59      9999\n",
            "   macro avg       0.64      0.59      0.56      9999\n",
            "weighted avg       0.64      0.59      0.56      9999\n",
            "\n"
          ]
        }
      ]
    }
  ],
  "metadata": {
    "kernelspec": {
      "display_name": "Python 3 (ipykernel)",
      "language": "python",
      "name": "python3"
    },
    "language_info": {
      "codemirror_mode": {
        "name": "ipython",
        "version": 3
      },
      "file_extension": ".py",
      "mimetype": "text/x-python",
      "name": "python",
      "nbconvert_exporter": "python",
      "pygments_lexer": "ipython3",
      "version": "3.9.12"
    },
    "colab": {
      "provenance": [],
      "collapsed_sections": [
        "ad8f0e77"
      ]
    }
  },
  "nbformat": 4,
  "nbformat_minor": 5
}